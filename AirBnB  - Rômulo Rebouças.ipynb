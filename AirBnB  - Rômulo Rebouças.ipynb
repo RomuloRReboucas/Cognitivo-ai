{
 "cells": [
  {
   "cell_type": "markdown",
   "metadata": {},
   "source": [
    "# Estatística para Ciência de Dados - Avaliação Final"
   ]
  },
  {
   "cell_type": "markdown",
   "metadata": {},
   "source": [
    "Profa. Mariana Cúri<br>\n",
    "Universidade de São Paulo, São Carlos, Brasil.<br>\n",
    "Aluno: Rômulo Róseo Rebouças"
   ]
  },
  {
   "cell_type": "markdown",
   "metadata": {},
   "source": [
    "### Estudo dos dados do arquivo Brain que referem-se ao peso do cérebro (g), tamanho da cabeça (cm3) de 237 adultos,  identificados por sexo e grupo etário. O estudo teve por objetivo verificar se:<br>\n",
    "    1) Há diferença no peso cerebral entre os sexos? E entre os grupos etários?\n",
    "    2) O tamanho da cabeça é preditor do peso cerebral e, neste caso, há diferença nessa relação entre os sexos e entre os grupos etários? \n",
    "    3) Estime o peso médio do cérebro de homens e de mulheres (pontual e intervalar).\n",
    "\n",
    "### O trabalho é composto das seguintes fases:<br>\n",
    "  \n",
    "#### Análise dos dados <br>\n",
    "* Verificação de atributos faltantes,<br>\n",
    "* Verificação da necessidade de normalização ou padronização.<br>\n",
    "* Verificação da necessidade de transformação para valores numéricos (one-hot-encoding) se precisar.<br>\n",
    "#### Modelagem:<br>\n",
    "* Testar se há diferença entre o peso cerebral e os sexos, e entre os grupos etários.<br>\n",
    "* Elaborar modelo de regressão para verificar se o tamanho da cabeça é preditor do peso cerebral e, neste caso, se há diferença nessa relação entre os sexos e entre os grupos etários<br>\n",
    "* Estimar o peso médio do cérebro de homens e de mulheres<br>\n",
    "#### Conclusão:<br>\n",
    "* A interpretação, resultados resumidos e comentários estão disponíveis no arquivo .pdf anexo."
   ]
  },
  {
   "cell_type": "markdown",
   "metadata": {},
   "source": [
    "### Análise dos dados"
   ]
  },
  {
   "cell_type": "code",
   "execution_count": 1,
   "metadata": {},
   "outputs": [],
   "source": [
    "##-- Importação dos pacotes\n",
    "import numpy as np\n",
    "from scipy.stats import norm\n",
    "import matplotlib.pyplot as plt\n",
    "import pandas as pd\n",
    "from scipy import stats\n",
    "from patsy import dmatrices\n",
    "from statsmodels.stats.outliers_influence import variance_inflation_factor"
   ]
  },
  {
   "cell_type": "code",
   "execution_count": 2,
   "metadata": {},
   "outputs": [
    {
     "name": "stdout",
     "output_type": "stream",
     "text": [
      "237\n"
     ]
    },
    {
     "data": {
      "text/html": [
       "<div>\n",
       "<style scoped>\n",
       "    .dataframe tbody tr th:only-of-type {\n",
       "        vertical-align: middle;\n",
       "    }\n",
       "\n",
       "    .dataframe tbody tr th {\n",
       "        vertical-align: top;\n",
       "    }\n",
       "\n",
       "    .dataframe thead th {\n",
       "        text-align: right;\n",
       "    }\n",
       "</style>\n",
       "<table border=\"1\" class=\"dataframe\">\n",
       "  <thead>\n",
       "    <tr style=\"text-align: right;\">\n",
       "      <th></th>\n",
       "      <th>Sexo</th>\n",
       "      <th>Gr_Acima45</th>\n",
       "      <th>Tam_Cabeca</th>\n",
       "      <th>Peso_Cerebral</th>\n",
       "    </tr>\n",
       "  </thead>\n",
       "  <tbody>\n",
       "    <tr>\n",
       "      <td>0</td>\n",
       "      <td>1</td>\n",
       "      <td>0</td>\n",
       "      <td>4512</td>\n",
       "      <td>1530</td>\n",
       "    </tr>\n",
       "    <tr>\n",
       "      <td>1</td>\n",
       "      <td>1</td>\n",
       "      <td>0</td>\n",
       "      <td>3738</td>\n",
       "      <td>1297</td>\n",
       "    </tr>\n",
       "    <tr>\n",
       "      <td>2</td>\n",
       "      <td>1</td>\n",
       "      <td>0</td>\n",
       "      <td>4261</td>\n",
       "      <td>1335</td>\n",
       "    </tr>\n",
       "    <tr>\n",
       "      <td>3</td>\n",
       "      <td>1</td>\n",
       "      <td>0</td>\n",
       "      <td>3777</td>\n",
       "      <td>1282</td>\n",
       "    </tr>\n",
       "    <tr>\n",
       "      <td>4</td>\n",
       "      <td>1</td>\n",
       "      <td>0</td>\n",
       "      <td>4177</td>\n",
       "      <td>1590</td>\n",
       "    </tr>\n",
       "  </tbody>\n",
       "</table>\n",
       "</div>"
      ],
      "text/plain": [
       "   Sexo  Gr_Acima45  Tam_Cabeca  Peso_Cerebral\n",
       "0     1           0        4512           1530\n",
       "1     1           0        3738           1297\n",
       "2     1           0        4261           1335\n",
       "3     1           0        3777           1282\n",
       "4     1           0        4177           1590"
      ]
     },
     "execution_count": 2,
     "metadata": {},
     "output_type": "execute_result"
    }
   ],
   "source": [
    "##-- Leitura do aquivo \n",
    "df = pd.read_csv(\"E:/_USP-CEMAI/Dados/Estatisitica_Ciencia_Dados/Brain.csv\", encoding= 'unicode_escape')\n",
    "df.columns = ['Sexo', 'Gr_Acima45', 'Tam_Cabeca', 'Peso_Cerebral']\n",
    "##-- Para o sexo, fica estabelecido que: 0 - feminino e 1 - masculino\n",
    "##-- Para o Grupo Etário, fica estabelecidoque: 0 - Abaixo de 45 anos; 1 - Acima de 45 anos\n",
    "\n",
    "print (df.shape[0])\n",
    "df.head()"
   ]
  },
  {
   "cell_type": "code",
   "execution_count": 3,
   "metadata": {},
   "outputs": [
    {
     "data": {
      "text/html": [
       "<div>\n",
       "<style scoped>\n",
       "    .dataframe tbody tr th:only-of-type {\n",
       "        vertical-align: middle;\n",
       "    }\n",
       "\n",
       "    .dataframe tbody tr th {\n",
       "        vertical-align: top;\n",
       "    }\n",
       "\n",
       "    .dataframe thead th {\n",
       "        text-align: right;\n",
       "    }\n",
       "</style>\n",
       "<table border=\"1\" class=\"dataframe\">\n",
       "  <thead>\n",
       "    <tr style=\"text-align: right;\">\n",
       "      <th></th>\n",
       "      <th>Sexo</th>\n",
       "      <th>Gr_Acima45</th>\n",
       "      <th>Tam_Cabeca</th>\n",
       "      <th>Peso_Cerebral</th>\n",
       "    </tr>\n",
       "  </thead>\n",
       "  <tbody>\n",
       "    <tr>\n",
       "      <td>count</td>\n",
       "      <td>237.000000</td>\n",
       "      <td>237.000000</td>\n",
       "      <td>237.000000</td>\n",
       "      <td>237.000000</td>\n",
       "    </tr>\n",
       "    <tr>\n",
       "      <td>mean</td>\n",
       "      <td>0.565401</td>\n",
       "      <td>0.535865</td>\n",
       "      <td>3633.991561</td>\n",
       "      <td>1282.873418</td>\n",
       "    </tr>\n",
       "    <tr>\n",
       "      <td>std</td>\n",
       "      <td>0.496753</td>\n",
       "      <td>0.499768</td>\n",
       "      <td>365.261422</td>\n",
       "      <td>120.340446</td>\n",
       "    </tr>\n",
       "    <tr>\n",
       "      <td>min</td>\n",
       "      <td>0.000000</td>\n",
       "      <td>0.000000</td>\n",
       "      <td>2720.000000</td>\n",
       "      <td>955.000000</td>\n",
       "    </tr>\n",
       "    <tr>\n",
       "      <td>25%</td>\n",
       "      <td>0.000000</td>\n",
       "      <td>0.000000</td>\n",
       "      <td>3389.000000</td>\n",
       "      <td>1207.000000</td>\n",
       "    </tr>\n",
       "    <tr>\n",
       "      <td>50%</td>\n",
       "      <td>1.000000</td>\n",
       "      <td>1.000000</td>\n",
       "      <td>3614.000000</td>\n",
       "      <td>1280.000000</td>\n",
       "    </tr>\n",
       "    <tr>\n",
       "      <td>75%</td>\n",
       "      <td>1.000000</td>\n",
       "      <td>1.000000</td>\n",
       "      <td>3876.000000</td>\n",
       "      <td>1350.000000</td>\n",
       "    </tr>\n",
       "    <tr>\n",
       "      <td>max</td>\n",
       "      <td>1.000000</td>\n",
       "      <td>1.000000</td>\n",
       "      <td>4747.000000</td>\n",
       "      <td>1635.000000</td>\n",
       "    </tr>\n",
       "  </tbody>\n",
       "</table>\n",
       "</div>"
      ],
      "text/plain": [
       "             Sexo  Gr_Acima45   Tam_Cabeca  Peso_Cerebral\n",
       "count  237.000000  237.000000   237.000000     237.000000\n",
       "mean     0.565401    0.535865  3633.991561    1282.873418\n",
       "std      0.496753    0.499768   365.261422     120.340446\n",
       "min      0.000000    0.000000  2720.000000     955.000000\n",
       "25%      0.000000    0.000000  3389.000000    1207.000000\n",
       "50%      1.000000    1.000000  3614.000000    1280.000000\n",
       "75%      1.000000    1.000000  3876.000000    1350.000000\n",
       "max      1.000000    1.000000  4747.000000    1635.000000"
      ]
     },
     "execution_count": 3,
     "metadata": {},
     "output_type": "execute_result"
    }
   ],
   "source": [
    "df.describe()"
   ]
  },
  {
   "cell_type": "code",
   "execution_count": 4,
   "metadata": {},
   "outputs": [
    {
     "data": {
      "text/html": [
       "<div>\n",
       "<style scoped>\n",
       "    .dataframe tbody tr th:only-of-type {\n",
       "        vertical-align: middle;\n",
       "    }\n",
       "\n",
       "    .dataframe tbody tr th {\n",
       "        vertical-align: top;\n",
       "    }\n",
       "\n",
       "    .dataframe thead th {\n",
       "        text-align: right;\n",
       "    }\n",
       "</style>\n",
       "<table border=\"1\" class=\"dataframe\">\n",
       "  <thead>\n",
       "    <tr style=\"text-align: right;\">\n",
       "      <th></th>\n",
       "      <th>Sexo</th>\n",
       "      <th>Gr_Acima45</th>\n",
       "      <th>Tam_Cabeca</th>\n",
       "      <th>Peso_Cerebral</th>\n",
       "    </tr>\n",
       "  </thead>\n",
       "  <tbody>\n",
       "    <tr>\n",
       "      <td>count</td>\n",
       "      <td>237.000000</td>\n",
       "      <td>237.000000</td>\n",
       "      <td>237.000000</td>\n",
       "      <td>237.000000</td>\n",
       "    </tr>\n",
       "    <tr>\n",
       "      <td>mean</td>\n",
       "      <td>0.565401</td>\n",
       "      <td>0.535865</td>\n",
       "      <td>3633.991561</td>\n",
       "      <td>1282.873418</td>\n",
       "    </tr>\n",
       "    <tr>\n",
       "      <td>std</td>\n",
       "      <td>0.496753</td>\n",
       "      <td>0.499768</td>\n",
       "      <td>365.261422</td>\n",
       "      <td>120.340446</td>\n",
       "    </tr>\n",
       "    <tr>\n",
       "      <td>min</td>\n",
       "      <td>0.000000</td>\n",
       "      <td>0.000000</td>\n",
       "      <td>2720.000000</td>\n",
       "      <td>955.000000</td>\n",
       "    </tr>\n",
       "    <tr>\n",
       "      <td>25%</td>\n",
       "      <td>0.000000</td>\n",
       "      <td>0.000000</td>\n",
       "      <td>3389.000000</td>\n",
       "      <td>1207.000000</td>\n",
       "    </tr>\n",
       "    <tr>\n",
       "      <td>50%</td>\n",
       "      <td>1.000000</td>\n",
       "      <td>1.000000</td>\n",
       "      <td>3614.000000</td>\n",
       "      <td>1280.000000</td>\n",
       "    </tr>\n",
       "    <tr>\n",
       "      <td>75%</td>\n",
       "      <td>1.000000</td>\n",
       "      <td>1.000000</td>\n",
       "      <td>3876.000000</td>\n",
       "      <td>1350.000000</td>\n",
       "    </tr>\n",
       "    <tr>\n",
       "      <td>max</td>\n",
       "      <td>1.000000</td>\n",
       "      <td>1.000000</td>\n",
       "      <td>4747.000000</td>\n",
       "      <td>1635.000000</td>\n",
       "    </tr>\n",
       "  </tbody>\n",
       "</table>\n",
       "</div>"
      ],
      "text/plain": [
       "             Sexo  Gr_Acima45   Tam_Cabeca  Peso_Cerebral\n",
       "count  237.000000  237.000000   237.000000     237.000000\n",
       "mean     0.565401    0.535865  3633.991561    1282.873418\n",
       "std      0.496753    0.499768   365.261422     120.340446\n",
       "min      0.000000    0.000000  2720.000000     955.000000\n",
       "25%      0.000000    0.000000  3389.000000    1207.000000\n",
       "50%      1.000000    1.000000  3614.000000    1280.000000\n",
       "75%      1.000000    1.000000  3876.000000    1350.000000\n",
       "max      1.000000    1.000000  4747.000000    1635.000000"
      ]
     },
     "execution_count": 4,
     "metadata": {},
     "output_type": "execute_result"
    }
   ],
   "source": [
    "#-- Verifica se possui dados duplicados\n",
    "data_nred = df.drop_duplicates(keep='first')\n",
    "data_nred.describe()"
   ]
  },
  {
   "cell_type": "code",
   "execution_count": 5,
   "metadata": {},
   "outputs": [],
   "source": [
    "##-->> Não possui dados duplicados"
   ]
  },
  {
   "cell_type": "code",
   "execution_count": 6,
   "metadata": {},
   "outputs": [
    {
     "data": {
      "text/plain": [
       "Sexo             int64\n",
       "Gr_Acima45       int64\n",
       "Tam_Cabeca       int64\n",
       "Peso_Cerebral    int64\n",
       "dtype: object"
      ]
     },
     "execution_count": 6,
     "metadata": {},
     "output_type": "execute_result"
    }
   ],
   "source": [
    "#-- Verifica os tipos dos atributos\n",
    "df.dtypes"
   ]
  },
  {
   "cell_type": "code",
   "execution_count": 7,
   "metadata": {},
   "outputs": [
    {
     "name": "stdout",
     "output_type": "stream",
     "text": [
      "Antes: 237, Depois remocao outliers: 231\n"
     ]
    }
   ],
   "source": [
    "#-- Verifica outliers\n",
    "\n",
    "def remove_nans_outliers(df, attributes, out_in=0):\n",
    "    \n",
    "    dfn = df.copy()\n",
    "    \n",
    "    for var in attributes:\n",
    "        # verifica se variável é numerica\n",
    "        if np.issubdtype(df[var].dtype, np.number):\n",
    "            Q1 = df[var].quantile(0.25)\n",
    "            Q2 = df[var].quantile(0.25)\n",
    "            Q3 = df[var].quantile(0.75)\n",
    "            IQR = Q3 - Q1\n",
    "        \n",
    "        if out_in==0 :\n",
    "            # apenas inliers segundo IQR\n",
    "            dfn = df.loc[(df[var] >= Q1-(IQR*1.5)) & (df[var] <= Q3+(IQR*1.5)), :]\n",
    "        else:\n",
    "            # apenas outliers segundo IQR\n",
    "            dfn = df.loc[(df[var] < Q1-(IQR*1.5)) | (df[var] > Q3+(IQR*1.5)), :]\n",
    "            \n",
    "        dfn = dfn.loc[dfn[var].notnull(),:]\n",
    "        \n",
    "    return dfn\n",
    "\n",
    "attributes = ['Tam_Cabeca', 'Peso_Cerebral']\n",
    "\n",
    "data = remove_nans_outliers(data_nred, attributes, 0)\n",
    "data_out = remove_nans_outliers(data_nred, attributes, 1)\n",
    "\n",
    "print(\"Antes: %d, Depois remocao outliers: %d\" % (data_nred.shape[0], data.shape[0]))"
   ]
  },
  {
   "cell_type": "code",
   "execution_count": 8,
   "metadata": {},
   "outputs": [
    {
     "data": {
      "text/html": [
       "<div>\n",
       "<style scoped>\n",
       "    .dataframe tbody tr th:only-of-type {\n",
       "        vertical-align: middle;\n",
       "    }\n",
       "\n",
       "    .dataframe tbody tr th {\n",
       "        vertical-align: top;\n",
       "    }\n",
       "\n",
       "    .dataframe thead th {\n",
       "        text-align: right;\n",
       "    }\n",
       "</style>\n",
       "<table border=\"1\" class=\"dataframe\">\n",
       "  <thead>\n",
       "    <tr style=\"text-align: right;\">\n",
       "      <th></th>\n",
       "      <th>Sexo</th>\n",
       "      <th>Gr_Acima45</th>\n",
       "      <th>Tam_Cabeca</th>\n",
       "      <th>Peso_Cerebral</th>\n",
       "    </tr>\n",
       "  </thead>\n",
       "  <tbody>\n",
       "    <tr>\n",
       "      <td>4</td>\n",
       "      <td>1</td>\n",
       "      <td>0</td>\n",
       "      <td>4177</td>\n",
       "      <td>1590</td>\n",
       "    </tr>\n",
       "    <tr>\n",
       "      <td>24</td>\n",
       "      <td>1</td>\n",
       "      <td>0</td>\n",
       "      <td>4747</td>\n",
       "      <td>1635</td>\n",
       "    </tr>\n",
       "    <tr>\n",
       "      <td>43</td>\n",
       "      <td>1</td>\n",
       "      <td>0</td>\n",
       "      <td>3804</td>\n",
       "      <td>1570</td>\n",
       "    </tr>\n",
       "    <tr>\n",
       "      <td>102</td>\n",
       "      <td>1</td>\n",
       "      <td>1</td>\n",
       "      <td>3876</td>\n",
       "      <td>1588</td>\n",
       "    </tr>\n",
       "    <tr>\n",
       "      <td>109</td>\n",
       "      <td>1</td>\n",
       "      <td>1</td>\n",
       "      <td>4430</td>\n",
       "      <td>1620</td>\n",
       "    </tr>\n",
       "    <tr>\n",
       "      <td>209</td>\n",
       "      <td>0</td>\n",
       "      <td>1</td>\n",
       "      <td>2720</td>\n",
       "      <td>955</td>\n",
       "    </tr>\n",
       "  </tbody>\n",
       "</table>\n",
       "</div>"
      ],
      "text/plain": [
       "     Sexo  Gr_Acima45  Tam_Cabeca  Peso_Cerebral\n",
       "4       1           0        4177           1590\n",
       "24      1           0        4747           1635\n",
       "43      1           0        3804           1570\n",
       "102     1           1        3876           1588\n",
       "109     1           1        4430           1620\n",
       "209     0           1        2720            955"
      ]
     },
     "execution_count": 8,
     "metadata": {},
     "output_type": "execute_result"
    }
   ],
   "source": [
    "##-- Lista Outliers -- Valores consideraos extremos \n",
    "data_out"
   ]
  },
  {
   "cell_type": "markdown",
   "metadata": {},
   "source": [
    "#### >> Para a variável Tam_Cabeca o valor [4.747] foi considera outiler\n",
    "#### >> Para a variável Peso_Cerebral os valores [1590,1635,1570,1588,1620,955] foram considerados outilers"
   ]
  },
  {
   "cell_type": "code",
   "execution_count": 9,
   "metadata": {},
   "outputs": [
    {
     "data": {
      "text/html": [
       "<div>\n",
       "<style scoped>\n",
       "    .dataframe tbody tr th:only-of-type {\n",
       "        vertical-align: middle;\n",
       "    }\n",
       "\n",
       "    .dataframe tbody tr th {\n",
       "        vertical-align: top;\n",
       "    }\n",
       "\n",
       "    .dataframe thead th {\n",
       "        text-align: right;\n",
       "    }\n",
       "</style>\n",
       "<table border=\"1\" class=\"dataframe\">\n",
       "  <thead>\n",
       "    <tr style=\"text-align: right;\">\n",
       "      <th></th>\n",
       "      <th>Sexo</th>\n",
       "      <th>Gr_Acima45</th>\n",
       "      <th>Tam_Cabeca</th>\n",
       "      <th>Peso_Cerebral</th>\n",
       "    </tr>\n",
       "  </thead>\n",
       "  <tbody>\n",
       "    <tr>\n",
       "      <td>count</td>\n",
       "      <td>231.000000</td>\n",
       "      <td>231.000000</td>\n",
       "      <td>231.000000</td>\n",
       "      <td>231.000000</td>\n",
       "    </tr>\n",
       "    <tr>\n",
       "      <td>mean</td>\n",
       "      <td>0.558442</td>\n",
       "      <td>0.536797</td>\n",
       "      <td>3625.549784</td>\n",
       "      <td>1277.415584</td>\n",
       "    </tr>\n",
       "    <tr>\n",
       "      <td>std</td>\n",
       "      <td>0.497651</td>\n",
       "      <td>0.499727</td>\n",
       "      <td>351.268293</td>\n",
       "      <td>110.252873</td>\n",
       "    </tr>\n",
       "    <tr>\n",
       "      <td>min</td>\n",
       "      <td>0.000000</td>\n",
       "      <td>0.000000</td>\n",
       "      <td>2773.000000</td>\n",
       "      <td>1012.000000</td>\n",
       "    </tr>\n",
       "    <tr>\n",
       "      <td>25%</td>\n",
       "      <td>0.000000</td>\n",
       "      <td>0.000000</td>\n",
       "      <td>3386.000000</td>\n",
       "      <td>1206.000000</td>\n",
       "    </tr>\n",
       "    <tr>\n",
       "      <td>50%</td>\n",
       "      <td>1.000000</td>\n",
       "      <td>1.000000</td>\n",
       "      <td>3609.000000</td>\n",
       "      <td>1280.000000</td>\n",
       "    </tr>\n",
       "    <tr>\n",
       "      <td>75%</td>\n",
       "      <td>1.000000</td>\n",
       "      <td>1.000000</td>\n",
       "      <td>3860.500000</td>\n",
       "      <td>1350.000000</td>\n",
       "    </tr>\n",
       "    <tr>\n",
       "      <td>max</td>\n",
       "      <td>1.000000</td>\n",
       "      <td>1.000000</td>\n",
       "      <td>4512.000000</td>\n",
       "      <td>1560.000000</td>\n",
       "    </tr>\n",
       "  </tbody>\n",
       "</table>\n",
       "</div>"
      ],
      "text/plain": [
       "             Sexo  Gr_Acima45   Tam_Cabeca  Peso_Cerebral\n",
       "count  231.000000  231.000000   231.000000     231.000000\n",
       "mean     0.558442    0.536797  3625.549784    1277.415584\n",
       "std      0.497651    0.499727   351.268293     110.252873\n",
       "min      0.000000    0.000000  2773.000000    1012.000000\n",
       "25%      0.000000    0.000000  3386.000000    1206.000000\n",
       "50%      1.000000    1.000000  3609.000000    1280.000000\n",
       "75%      1.000000    1.000000  3860.500000    1350.000000\n",
       "max      1.000000    1.000000  4512.000000    1560.000000"
      ]
     },
     "execution_count": 9,
     "metadata": {},
     "output_type": "execute_result"
    }
   ],
   "source": [
    "##-- Dados sem outliers\n",
    "data.describe()"
   ]
  },
  {
   "cell_type": "code",
   "execution_count": 10,
   "metadata": {},
   "outputs": [
    {
     "data": {
      "text/plain": [
       "<matplotlib.axes._subplots.AxesSubplot at 0x16fa0d385c8>"
      ]
     },
     "execution_count": 10,
     "metadata": {},
     "output_type": "execute_result"
    },
    {
     "data": {
      "image/png": "[encoded data removed]",
      "text/plain": [
       "<Figure size 432x288 with 1 Axes>"
      ]
     },
     "metadata": {
      "needs_background": "light"
     },
     "output_type": "display_data"
    }
   ],
   "source": [
    "data['Peso_Cerebral'].plot.hist()"
   ]
  },
  {
   "cell_type": "code",
   "execution_count": 11,
   "metadata": {
    "scrolled": false
   },
   "outputs": [
    {
     "data": {
      "text/plain": [
       "<matplotlib.axes._subplots.AxesSubplot at 0x16fa10532c8>"
      ]
     },
     "execution_count": 11,
     "metadata": {},
     "output_type": "execute_result"
    },
    {
     "data": {
      "image/png": "[encoded data removed]",
      "text/plain": [
       "<Figure size 432x288 with 1 Axes>"
      ]
     },
     "metadata": {
      "needs_background": "light"
     },
     "output_type": "display_data"
    }
   ],
   "source": [
    "data['Tam_Cabeca'].plot.hist()"
   ]
  },
  {
   "cell_type": "code",
   "execution_count": 12,
   "metadata": {
    "scrolled": false
   },
   "outputs": [
    {
     "name": "stdout",
     "output_type": "stream",
     "text": [
      "Perc Sexo Masculino: 55.84 \n",
      "Perc Grupo Etário Acima de 45 anos: 53.68 \n"
     ]
    },
    {
     "data": {
      "image/png": "[encoded data removed]",
      "text/plain": [
       "<Figure size 432x288 with 2 Axes>"
      ]
     },
     "metadata": {
      "needs_background": "light"
     },
     "output_type": "display_data"
    }
   ],
   "source": [
    "import matplotlib.pyplot as plt\n",
    "fig = plt.figure()\n",
    "ax1 = fig.add_subplot(2, 2, 1)\n",
    "ax1.hist(data['Sexo'], bins=3, color='r', alpha=0.8)\n",
    "ax1.set(title= 'Sexo')\n",
    "ax2 = fig.add_subplot(2, 2, 2)\n",
    "ax2.hist(data['Gr_Acima45'], bins=3, color='b', alpha=0.8)\n",
    "ax2.set(title= 'Gr_Acima45')\n",
    "plt.subplots_adjust(wspace=0.5, hspace=0)\n",
    "print('Perc Sexo Masculino: %.2f ' % ((data['Sexo'].sum()/data['Sexo'].shape[0])*100))\n",
    "print('Perc Grupo Etário Acima de 45 anos: %.2f ' % ((data['Gr_Acima45'].sum()/data['Gr_Acima45'].shape[0])*100))"
   ]
  },
  {
   "cell_type": "markdown",
   "metadata": {},
   "source": [
    "#### >> As variáveis categóricas apresentam-se bem balanceadas."
   ]
  },
  {
   "cell_type": "markdown",
   "metadata": {},
   "source": [
    "### Modelagem\n",
    "### 1) Há diferença no peso cerebral entre os sexos? E entre os grupos etários?\n",
    "### - Peso cerebral versus sexo"
   ]
  },
  {
   "cell_type": "code",
   "execution_count": 13,
   "metadata": {},
   "outputs": [
    {
     "data": {
      "text/html": [
       "<div>\n",
       "<style scoped>\n",
       "    .dataframe tbody tr th:only-of-type {\n",
       "        vertical-align: middle;\n",
       "    }\n",
       "\n",
       "    .dataframe tbody tr th {\n",
       "        vertical-align: top;\n",
       "    }\n",
       "\n",
       "    .dataframe thead th {\n",
       "        text-align: right;\n",
       "    }\n",
       "</style>\n",
       "<table border=\"1\" class=\"dataframe\">\n",
       "  <thead>\n",
       "    <tr style=\"text-align: right;\">\n",
       "      <th></th>\n",
       "      <th>count</th>\n",
       "      <th>mean</th>\n",
       "      <th>std</th>\n",
       "      <th>min</th>\n",
       "      <th>25%</th>\n",
       "      <th>50%</th>\n",
       "      <th>75%</th>\n",
       "      <th>max</th>\n",
       "    </tr>\n",
       "    <tr>\n",
       "      <th>Sexo</th>\n",
       "      <th></th>\n",
       "      <th></th>\n",
       "      <th></th>\n",
       "      <th></th>\n",
       "      <th></th>\n",
       "      <th></th>\n",
       "      <th></th>\n",
       "      <th></th>\n",
       "    </tr>\n",
       "  </thead>\n",
       "  <tbody>\n",
       "    <tr>\n",
       "      <td>0</td>\n",
       "      <td>102.0</td>\n",
       "      <td>1221.735294</td>\n",
       "      <td>100.944542</td>\n",
       "      <td>1012.0</td>\n",
       "      <td>1152.5</td>\n",
       "      <td>1220.0</td>\n",
       "      <td>1290.0</td>\n",
       "      <td>1520.0</td>\n",
       "    </tr>\n",
       "    <tr>\n",
       "      <td>1</td>\n",
       "      <td>129.0</td>\n",
       "      <td>1321.441860</td>\n",
       "      <td>96.839421</td>\n",
       "      <td>1120.0</td>\n",
       "      <td>1250.0</td>\n",
       "      <td>1310.0</td>\n",
       "      <td>1390.0</td>\n",
       "      <td>1560.0</td>\n",
       "    </tr>\n",
       "  </tbody>\n",
       "</table>\n",
       "</div>"
      ],
      "text/plain": [
       "      count         mean         std     min     25%     50%     75%     max\n",
       "Sexo                                                                        \n",
       "0     102.0  1221.735294  100.944542  1012.0  1152.5  1220.0  1290.0  1520.0\n",
       "1     129.0  1321.441860   96.839421  1120.0  1250.0  1310.0  1390.0  1560.0"
      ]
     },
     "execution_count": 13,
     "metadata": {},
     "output_type": "execute_result"
    }
   ],
   "source": [
    "##-- Peso cerebral por sexo\n",
    "data.groupby('Sexo')['Peso_Cerebral'].describe()"
   ]
  },
  {
   "cell_type": "code",
   "execution_count": 14,
   "metadata": {
    "scrolled": true
   },
   "outputs": [],
   "source": [
    "import numpy as np\n",
    "from scipy.stats import norm\n",
    "import matplotlib.pyplot as plt\n",
    "import pandas as pd\n",
    "from scipy import stats\n",
    "\n",
    "# Generate some data for this demonstration. \n",
    "data1 = data.loc[data['Sexo']==0, 'Peso_Cerebral'] # dados do tipo Feminino\n",
    "data2 = data.loc[data['Sexo']==1, 'Peso_Cerebral'] # dados do tipo Masculino"
   ]
  },
  {
   "cell_type": "code",
   "execution_count": 15,
   "metadata": {},
   "outputs": [
    {
     "data": {
      "text/plain": [
       "<matplotlib.axes._subplots.AxesSubplot at 0x16fa2195d88>"
      ]
     },
     "execution_count": 15,
     "metadata": {},
     "output_type": "execute_result"
    },
    {
     "data": {
      "image/png": "[encoded data removed]",
      "text/plain": [
       "<Figure size 432x288 with 1 Axes>"
      ]
     },
     "metadata": {
      "needs_background": "light"
     },
     "output_type": "display_data"
    }
   ],
   "source": [
    "data1.plot.hist() #-- Peso Cerebral sexo feminino"
   ]
  },
  {
   "cell_type": "code",
   "execution_count": 16,
   "metadata": {},
   "outputs": [
    {
     "data": {
      "text/plain": [
       "<matplotlib.axes._subplots.AxesSubplot at 0x16fa2215088>"
      ]
     },
     "execution_count": 16,
     "metadata": {},
     "output_type": "execute_result"
    },
    {
     "data": {
      "image/png": "[encoded data removed]",
      "text/plain": [
       "<Figure size 432x288 with 1 Axes>"
      ]
     },
     "metadata": {
      "needs_background": "light"
     },
     "output_type": "display_data"
    }
   ],
   "source": [
    "data2.plot.hist() #-- Peso Cerebral sexo masculino"
   ]
  },
  {
   "cell_type": "code",
   "execution_count": 17,
   "metadata": {},
   "outputs": [
    {
     "data": {
      "text/plain": [
       "LeveneResult(statistic=0.20012496119093054, pvalue=0.6550428472167493)"
      ]
     },
     "execution_count": 17,
     "metadata": {},
     "output_type": "execute_result"
    }
   ],
   "source": [
    "# Teste de Levene para igualdade de variâncias\n",
    "stats.levene(data1,data2)\n",
    "\n",
    "# Considerando alpha=0.05 a Hipótese Nula H0 (igualdade de variâncias) não pode ser rejeitada, \n",
    "# pois o valor p é maior que alpha"
   ]
  },
  {
   "cell_type": "markdown",
   "metadata": {},
   "source": [
    "#### >> As variâncias do Peso Cerebral entre os Sexos podem ser consideradas iguais"
   ]
  },
  {
   "cell_type": "code",
   "execution_count": 18,
   "metadata": {},
   "outputs": [
    {
     "data": {
      "text/plain": [
       "Ttest_indResult(statistic=-7.626460860129644, pvalue=6.406844045347685e-13)"
      ]
     },
     "execution_count": 18,
     "metadata": {},
     "output_type": "execute_result"
    }
   ],
   "source": [
    "# Teste t de Student (bicaudal) para média de duas populações Normais com variâncias iguais\n",
    "stats.ttest_ind(data1,data2, equal_var = True)"
   ]
  },
  {
   "cell_type": "markdown",
   "metadata": {},
   "source": [
    "#### >> As médias do Peso Cerebral entre os Sexos podem ser consideradas diferentes, a um nível de significancia de alfa = 5%"
   ]
  },
  {
   "cell_type": "code",
   "execution_count": 19,
   "metadata": {},
   "outputs": [
    {
     "data": {
      "image/png": "[encoded data removed]",
      "text/plain": [
       "<Figure size 432x288 with 1 Axes>"
      ]
     },
     "metadata": {
      "needs_background": "light"
     },
     "output_type": "display_data"
    },
    {
     "data": {
      "text/plain": [
       "<Figure size 432x288 with 0 Axes>"
      ]
     },
     "metadata": {},
     "output_type": "display_data"
    }
   ],
   "source": [
    "# Gráfico de probabilidade da Normal, para checar suposição de tal distribuição dos dados\n",
    "# para o teste t de Student\n",
    "stats.probplot(data1, plot=plt)\n",
    "stats.probplot(data2, plot=plt)\n",
    "fig = plt.figure()"
   ]
  },
  {
   "cell_type": "code",
   "execution_count": 20,
   "metadata": {
    "scrolled": false
   },
   "outputs": [
    {
     "data": {
      "text/plain": [
       "MannwhitneyuResult(statistic=3161.0, pvalue=6.1610130807503855e-12)"
      ]
     },
     "execution_count": 20,
     "metadata": {},
     "output_type": "execute_result"
    }
   ],
   "source": [
    "# Teste da diferença de duas amostras independentes\n",
    "# teste não paramétrico Mann–Whitney U\n",
    "# A hipótese nula é de que as distribuições são iguais.\n",
    "stats.mannwhitneyu(data1,data2)"
   ]
  },
  {
   "cell_type": "markdown",
   "metadata": {},
   "source": [
    "#### >> As distribuições amostrais do Peso Cerebral entre os Sexos podem ser consideradas diferentes."
   ]
  },
  {
   "cell_type": "markdown",
   "metadata": {},
   "source": [
    "### - Peso cerebral versus grupos etários"
   ]
  },
  {
   "cell_type": "code",
   "execution_count": 21,
   "metadata": {},
   "outputs": [
    {
     "data": {
      "text/html": [
       "<div>\n",
       "<style scoped>\n",
       "    .dataframe tbody tr th:only-of-type {\n",
       "        vertical-align: middle;\n",
       "    }\n",
       "\n",
       "    .dataframe tbody tr th {\n",
       "        vertical-align: top;\n",
       "    }\n",
       "\n",
       "    .dataframe thead th {\n",
       "        text-align: right;\n",
       "    }\n",
       "</style>\n",
       "<table border=\"1\" class=\"dataframe\">\n",
       "  <thead>\n",
       "    <tr style=\"text-align: right;\">\n",
       "      <th></th>\n",
       "      <th>count</th>\n",
       "      <th>mean</th>\n",
       "      <th>std</th>\n",
       "      <th>min</th>\n",
       "      <th>25%</th>\n",
       "      <th>50%</th>\n",
       "      <th>75%</th>\n",
       "      <th>max</th>\n",
       "    </tr>\n",
       "    <tr>\n",
       "      <th>Gr_Acima45</th>\n",
       "      <th></th>\n",
       "      <th></th>\n",
       "      <th></th>\n",
       "      <th></th>\n",
       "      <th></th>\n",
       "      <th></th>\n",
       "      <th></th>\n",
       "      <th></th>\n",
       "    </tr>\n",
       "  </thead>\n",
       "  <tbody>\n",
       "    <tr>\n",
       "      <td>0</td>\n",
       "      <td>107.0</td>\n",
       "      <td>1296.504673</td>\n",
       "      <td>106.798379</td>\n",
       "      <td>1027.0</td>\n",
       "      <td>1224.5</td>\n",
       "      <td>1300.0</td>\n",
       "      <td>1357.5</td>\n",
       "      <td>1530.0</td>\n",
       "    </tr>\n",
       "    <tr>\n",
       "      <td>1</td>\n",
       "      <td>124.0</td>\n",
       "      <td>1260.943548</td>\n",
       "      <td>110.951194</td>\n",
       "      <td>1012.0</td>\n",
       "      <td>1180.0</td>\n",
       "      <td>1250.0</td>\n",
       "      <td>1330.0</td>\n",
       "      <td>1560.0</td>\n",
       "    </tr>\n",
       "  </tbody>\n",
       "</table>\n",
       "</div>"
      ],
      "text/plain": [
       "            count         mean         std     min     25%     50%     75%  \\\n",
       "Gr_Acima45                                                                   \n",
       "0           107.0  1296.504673  106.798379  1027.0  1224.5  1300.0  1357.5   \n",
       "1           124.0  1260.943548  110.951194  1012.0  1180.0  1250.0  1330.0   \n",
       "\n",
       "               max  \n",
       "Gr_Acima45          \n",
       "0           1530.0  \n",
       "1           1560.0  "
      ]
     },
     "execution_count": 21,
     "metadata": {},
     "output_type": "execute_result"
    }
   ],
   "source": [
    "##-- Peso cerebral por Grupo Etário\n",
    "data.groupby('Gr_Acima45')['Peso_Cerebral'].describe()"
   ]
  },
  {
   "cell_type": "code",
   "execution_count": 22,
   "metadata": {},
   "outputs": [],
   "source": [
    "# Generate some data for this demonstration. \n",
    "data1 = data.loc[data['Gr_Acima45']==0, 'Peso_Cerebral'] # Grupo abaixo de 45 anos\n",
    "data2 = data.loc[data['Gr_Acima45']==1, 'Peso_Cerebral'] # Grupo acima de 45 anos"
   ]
  },
  {
   "cell_type": "code",
   "execution_count": 23,
   "metadata": {},
   "outputs": [
    {
     "data": {
      "text/plain": [
       "<matplotlib.axes._subplots.AxesSubplot at 0x16fa2703588>"
      ]
     },
     "execution_count": 23,
     "metadata": {},
     "output_type": "execute_result"
    },
    {
     "data": {
      "image/png": "[encoded data removed]",
      "text/plain": [
       "<Figure size 432x288 with 1 Axes>"
      ]
     },
     "metadata": {
      "needs_background": "light"
     },
     "output_type": "display_data"
    }
   ],
   "source": [
    "data1.plot.hist() #-- Peso Cerebral grupo etário menor que 45 anos"
   ]
  },
  {
   "cell_type": "code",
   "execution_count": 24,
   "metadata": {},
   "outputs": [
    {
     "data": {
      "text/plain": [
       "<matplotlib.axes._subplots.AxesSubplot at 0x16fa26df348>"
      ]
     },
     "execution_count": 24,
     "metadata": {},
     "output_type": "execute_result"
    },
    {
     "data": {
      "image/png": "[encoded data removed]",
      "text/plain": [
       "<Figure size 432x288 with 1 Axes>"
      ]
     },
     "metadata": {
      "needs_background": "light"
     },
     "output_type": "display_data"
    }
   ],
   "source": [
    "data2.plot.hist() #-- Peso Cerebral grupo etário maior que 45 anos"
   ]
  },
  {
   "cell_type": "code",
   "execution_count": 25,
   "metadata": {},
   "outputs": [
    {
     "data": {
      "text/plain": [
       "LeveneResult(statistic=0.19799765601375685, pvalue=0.6567622537785363)"
      ]
     },
     "execution_count": 25,
     "metadata": {},
     "output_type": "execute_result"
    }
   ],
   "source": [
    "# Teste de Levene para igualdade de variâncias\n",
    "stats.levene(data1,data2)\n",
    "\n",
    "# Considerando alpha=0.05 a Hipótese Nula H0 (igualdade de variâncias) não pode ser rejeitada, \n",
    "# pois o valor p é maior que alpha"
   ]
  },
  {
   "cell_type": "markdown",
   "metadata": {},
   "source": [
    "#### >> As variâncias do Peso Cerebral entre os Grupos Etários podem ser consideradas iguais"
   ]
  },
  {
   "cell_type": "code",
   "execution_count": 26,
   "metadata": {},
   "outputs": [
    {
     "data": {
      "text/plain": [
       "Ttest_indResult(statistic=2.4714519115779985, pvalue=0.014185449403348203)"
      ]
     },
     "execution_count": 26,
     "metadata": {},
     "output_type": "execute_result"
    }
   ],
   "source": [
    "# Teste t de Student (bicaudal) para média de duas populações Normais com variâncias iguais\n",
    "stats.ttest_ind(data1,data2, equal_var = True)"
   ]
  },
  {
   "cell_type": "markdown",
   "metadata": {},
   "source": [
    "#### >> As médias do Peso Cerebral entre os Grupos Etários podem ser consideradas diferentes, a um nível de significancia de alfa = 5%."
   ]
  },
  {
   "cell_type": "code",
   "execution_count": 27,
   "metadata": {},
   "outputs": [
    {
     "data": {
      "image/png": "[encoded data removed]",
      "text/plain": [
       "<Figure size 432x288 with 1 Axes>"
      ]
     },
     "metadata": {
      "needs_background": "light"
     },
     "output_type": "display_data"
    },
    {
     "data": {
      "text/plain": [
       "<Figure size 432x288 with 0 Axes>"
      ]
     },
     "metadata": {},
     "output_type": "display_data"
    }
   ],
   "source": [
    "# Gráfico de probabilidade da Normal, para checar suposição de tal distribuição dos dados\n",
    "# do ENEM, para o teste t de Student\n",
    "stats.probplot(data1, plot=plt)\n",
    "stats.probplot(data2, plot=plt)\n",
    "fig = plt.figure()"
   ]
  },
  {
   "cell_type": "code",
   "execution_count": 28,
   "metadata": {},
   "outputs": [
    {
     "data": {
      "text/plain": [
       "MannwhitneyuResult(statistic=5383.5, pvalue=0.006788491423183411)"
      ]
     },
     "execution_count": 28,
     "metadata": {},
     "output_type": "execute_result"
    }
   ],
   "source": [
    "# Teste da diferença de duas amostras independentes\n",
    "# teste não paramétrico Mann–Whitney U\n",
    "# A hipótese nula é de que as distribuições são iguais.\n",
    "stats.mannwhitneyu(data1,data2)"
   ]
  },
  {
   "cell_type": "markdown",
   "metadata": {},
   "source": [
    "#### >> As distribuições amostrais do Peso Cerebral por Grupo Etário podem ser consideradas diferentes."
   ]
  },
  {
   "cell_type": "markdown",
   "metadata": {},
   "source": [
    "### 2) O tamanho da cabeça é preditor do peso cerebral e, neste caso, há diferença nessa relação entre os sexos e entre os grupos etários? "
   ]
  },
  {
   "cell_type": "code",
   "execution_count": 29,
   "metadata": {},
   "outputs": [
    {
     "data": {
      "text/html": [
       "<div>\n",
       "<style scoped>\n",
       "    .dataframe tbody tr th:only-of-type {\n",
       "        vertical-align: middle;\n",
       "    }\n",
       "\n",
       "    .dataframe tbody tr th {\n",
       "        vertical-align: top;\n",
       "    }\n",
       "\n",
       "    .dataframe thead th {\n",
       "        text-align: right;\n",
       "    }\n",
       "</style>\n",
       "<table border=\"1\" class=\"dataframe\">\n",
       "  <thead>\n",
       "    <tr style=\"text-align: right;\">\n",
       "      <th></th>\n",
       "      <th>Peso_Cerebral</th>\n",
       "      <th>Tam_Cabeca</th>\n",
       "    </tr>\n",
       "  </thead>\n",
       "  <tbody>\n",
       "    <tr>\n",
       "      <td>count</td>\n",
       "      <td>231.000000</td>\n",
       "      <td>231.000000</td>\n",
       "    </tr>\n",
       "    <tr>\n",
       "      <td>mean</td>\n",
       "      <td>1277.415584</td>\n",
       "      <td>3625.549784</td>\n",
       "    </tr>\n",
       "    <tr>\n",
       "      <td>std</td>\n",
       "      <td>110.252873</td>\n",
       "      <td>351.268293</td>\n",
       "    </tr>\n",
       "    <tr>\n",
       "      <td>min</td>\n",
       "      <td>1012.000000</td>\n",
       "      <td>2773.000000</td>\n",
       "    </tr>\n",
       "    <tr>\n",
       "      <td>25%</td>\n",
       "      <td>1206.000000</td>\n",
       "      <td>3386.000000</td>\n",
       "    </tr>\n",
       "    <tr>\n",
       "      <td>50%</td>\n",
       "      <td>1280.000000</td>\n",
       "      <td>3609.000000</td>\n",
       "    </tr>\n",
       "    <tr>\n",
       "      <td>75%</td>\n",
       "      <td>1350.000000</td>\n",
       "      <td>3860.500000</td>\n",
       "    </tr>\n",
       "    <tr>\n",
       "      <td>max</td>\n",
       "      <td>1560.000000</td>\n",
       "      <td>4512.000000</td>\n",
       "    </tr>\n",
       "  </tbody>\n",
       "</table>\n",
       "</div>"
      ],
      "text/plain": [
       "       Peso_Cerebral   Tam_Cabeca\n",
       "count     231.000000   231.000000\n",
       "mean     1277.415584  3625.549784\n",
       "std       110.252873   351.268293\n",
       "min      1012.000000  2773.000000\n",
       "25%      1206.000000  3386.000000\n",
       "50%      1280.000000  3609.000000\n",
       "75%      1350.000000  3860.500000\n",
       "max      1560.000000  4512.000000"
      ]
     },
     "execution_count": 29,
     "metadata": {},
     "output_type": "execute_result"
    }
   ],
   "source": [
    "data_reg = data.copy()\n",
    "data_reg[['Peso_Cerebral','Tam_Cabeca']].describe()"
   ]
  },
  {
   "cell_type": "code",
   "execution_count": 30,
   "metadata": {},
   "outputs": [
    {
     "name": "stderr",
     "output_type": "stream",
     "text": [
      "C:\\Users\\romul\\Anaconda3\\lib\\site-packages\\pandas\\plotting\\_matplotlib\\tools.py:307: MatplotlibDeprecationWarning: \n",
      "The rowNum attribute was deprecated in Matplotlib 3.2 and will be removed two minor releases later. Use ax.get_subplotspec().rowspan.start instead.\n",
      "  layout[ax.rowNum, ax.colNum] = ax.get_visible()\n",
      "C:\\Users\\romul\\Anaconda3\\lib\\site-packages\\pandas\\plotting\\_matplotlib\\tools.py:307: MatplotlibDeprecationWarning: \n",
      "The colNum attribute was deprecated in Matplotlib 3.2 and will be removed two minor releases later. Use ax.get_subplotspec().colspan.start instead.\n",
      "  layout[ax.rowNum, ax.colNum] = ax.get_visible()\n",
      "C:\\Users\\romul\\Anaconda3\\lib\\site-packages\\pandas\\plotting\\_matplotlib\\tools.py:313: MatplotlibDeprecationWarning: \n",
      "The rowNum attribute was deprecated in Matplotlib 3.2 and will be removed two minor releases later. Use ax.get_subplotspec().rowspan.start instead.\n",
      "  if not layout[ax.rowNum + 1, ax.colNum]:\n",
      "C:\\Users\\romul\\Anaconda3\\lib\\site-packages\\pandas\\plotting\\_matplotlib\\tools.py:313: MatplotlibDeprecationWarning: \n",
      "The colNum attribute was deprecated in Matplotlib 3.2 and will be removed two minor releases later. Use ax.get_subplotspec().colspan.start instead.\n",
      "  if not layout[ax.rowNum + 1, ax.colNum]:\n"
     ]
    },
    {
     "data": {
      "image/png": "[encoded data removed]",
      "text/plain": [
       "<Figure size 432x432 with 4 Axes>"
      ]
     },
     "metadata": {
      "needs_background": "light"
     },
     "output_type": "display_data"
    }
   ],
   "source": [
    "from pandas.plotting import scatter_matrix\n",
    "\n",
    "data_plot = data_reg[['Tam_Cabeca', 'Peso_Cerebral']]\n",
    "\n",
    "# Constrói os gráficos de dispersão em pares\n",
    "scatter_matrix(data_plot, alpha = 0.5, figsize = (6, 6))\n",
    "plt.show()"
   ]
  },
  {
   "cell_type": "code",
   "execution_count": 31,
   "metadata": {},
   "outputs": [
    {
     "name": "stdout",
     "output_type": "stream",
     "text": [
      "Coeficiente de correlação: 0.7897099172761768\n",
      "p-valor (H0: correlação igual a 0): 1.6955778788144382e-50\n"
     ]
    }
   ],
   "source": [
    "#Calcula o coeficiente de correlação de Pearson\n",
    "cor,pvalor = stats.pearsonr(data_reg['Peso_Cerebral'],data_reg['Tam_Cabeca'])\n",
    "print('Coeficiente de correlação:' ,cor)\n",
    "print('p-valor (H0: correlação igual a 0):' ,pvalor)"
   ]
  },
  {
   "cell_type": "markdown",
   "metadata": {},
   "source": [
    "#### >> Existe boa correlação entre o Peso Cerebral e o Tamanho da Cabeça. Aproximadamente 80%. Apresentam ainda mesma tendência positiva de crescimento.\n",
    "\n",
    "### Regressão Linear"
   ]
  },
  {
   "cell_type": "code",
   "execution_count": 32,
   "metadata": {},
   "outputs": [
    {
     "name": "stdout",
     "output_type": "stream",
     "text": [
      "                            OLS Regression Results                            \n",
      "==============================================================================\n",
      "Dep. Variable:          Peso_Cerebral   R-squared:                       0.644\n",
      "Model:                            OLS   Adj. R-squared:                  0.636\n",
      "Method:                 Least Squares   F-statistic:                     81.37\n",
      "Date:                Wed, 17 Jun 2020   Prob (F-statistic):           1.70e-48\n",
      "Time:                        08:58:59   Log-Likelihood:                -1294.4\n",
      "No. Observations:                 231   AIC:                             2601.\n",
      "Df Residuals:                     225   BIC:                             2621.\n",
      "Df Model:                           5                                         \n",
      "Covariance Type:            nonrobust                                         \n",
      "===========================================================================================\n",
      "                              coef    std err          t      P>|t|      [0.025      0.975]\n",
      "-------------------------------------------------------------------------------------------\n",
      "Intercept                1284.5477      8.867    144.874      0.000    1267.075    1302.020\n",
      "Tam_Cabeca_c                0.2451      0.027      8.963      0.000       0.191       0.299\n",
      "Sexo                       17.6179     10.497      1.678      0.095      -3.068      38.304\n",
      "Gr_Acima45                -23.1156      8.943     -2.585      0.010     -40.739      -5.492\n",
      "Tam_Cabeca_c:Sexo          -0.0474      0.030     -1.603      0.110      -0.106       0.011\n",
      "Tam_Cabeca_c:Gr_Acima45     0.0260      0.025      1.033      0.303      -0.024       0.076\n",
      "==============================================================================\n",
      "Omnibus:                        0.559   Durbin-Watson:                   1.967\n",
      "Prob(Omnibus):                  0.756   Jarque-Bera (JB):                0.547\n",
      "Skew:                           0.117   Prob(JB):                        0.761\n",
      "Kurtosis:                       2.953   Cond. No.                     1.30e+03\n",
      "==============================================================================\n",
      "\n",
      "Warnings:\n",
      "[1] Standard Errors assume that the covariance matrix of the errors is correctly specified.\n",
      "[2] The condition number is large, 1.3e+03. This might indicate that there are\n",
      "strong multicollinearity or other numerical problems.\n",
      "   VIF Factor                 features\n",
      "0    4.104163                Intercept\n",
      "1    4.796702             Tam_Cabeca_c\n",
      "2    1.418494                     Sexo\n",
      "3    1.038214               Gr_Acima45\n",
      "4    2.811821        Tam_Cabeca_c:Sexo\n",
      "5    2.173933  Tam_Cabeca_c:Gr_Acima45\n"
     ]
    }
   ],
   "source": [
    "## Regressão Linear --\n",
    "## Foi considerada a transformação da variável Tam_Cabeca centalizada pela sua Média\n",
    "## Foi utilizado o método backward com as variáveis para realizar o ajuste do modelo\n",
    "from statsmodels.formula.api import ols\n",
    "\n",
    "#-- 1. tentativa - todas as variáveis\n",
    "data_reg['Tam_Cabeca_c'] = data_reg['Tam_Cabeca'] - np.mean(data_reg['Tam_Cabeca'])\n",
    "mod = ols('Peso_Cerebral ~ Tam_Cabeca_c + Sexo + Gr_Acima45 + Tam_Cabeca_c*Sexo + Tam_Cabeca_c*Gr_Acima45',data=data_reg)\n",
    "res = mod.fit()\n",
    "print(res.summary())\n",
    "\n",
    "##--Calculo do VIF (fator de inflação de variação)\n",
    "#-- Gerar uma matriz de experimento adequada para a regressão.\n",
    "y, X = dmatrices('Peso_Cerebral ~ Tam_Cabeca_c + Sexo + Gr_Acima45 + Tam_Cabeca_c*Sexo + Tam_Cabeca_c*Gr_Acima45',data=data_reg, return_type='dataframe')\n",
    "\n",
    "# For each X, calculate VIF and save in dataframe\n",
    "vif = pd.DataFrame()\n",
    "vif[\"VIF Factor\"] = [variance_inflation_factor(X.values, i) for i in range(X.shape[1])]\n",
    "vif[\"features\"] = X.columns\n",
    "print(vif)"
   ]
  },
  {
   "cell_type": "code",
   "execution_count": 33,
   "metadata": {},
   "outputs": [
    {
     "name": "stdout",
     "output_type": "stream",
     "text": [
      "                            OLS Regression Results                            \n",
      "==============================================================================\n",
      "Dep. Variable:          Peso_Cerebral   R-squared:                       0.642\n",
      "Model:                            OLS   Adj. R-squared:                  0.636\n",
      "Method:                 Least Squares   F-statistic:                     101.4\n",
      "Date:                Wed, 17 Jun 2020   Prob (F-statistic):           2.68e-49\n",
      "Time:                        08:59:00   Log-Likelihood:                -1294.9\n",
      "No. Observations:                 231   AIC:                             2600.\n",
      "Df Residuals:                     226   BIC:                             2617.\n",
      "Df Model:                           4                                         \n",
      "Covariance Type:            nonrobust                                         \n",
      "=====================================================================================\n",
      "                        coef    std err          t      P>|t|      [0.025      0.975]\n",
      "-------------------------------------------------------------------------------------\n",
      "Intercept          1284.3879      8.867    144.856      0.000    1266.916    1301.860\n",
      "Tam_Cabeca_c          0.2602      0.023     11.257      0.000       0.215       0.306\n",
      "Sexo                 17.2601     10.493      1.645      0.101      -3.417      37.937\n",
      "Gr_Acima45          -22.9525      8.943     -2.566      0.011     -40.575      -5.330\n",
      "Tam_Cabeca_c:Sexo    -0.0490      0.030     -1.657      0.099      -0.107       0.009\n",
      "==============================================================================\n",
      "Omnibus:                        0.760   Durbin-Watson:                   1.971\n",
      "Prob(Omnibus):                  0.684   Jarque-Bera (JB):                0.722\n",
      "Skew:                           0.136   Prob(JB):                        0.697\n",
      "Kurtosis:                       2.965   Cond. No.                     1.17e+03\n",
      "==============================================================================\n",
      "\n",
      "Warnings:\n",
      "[1] Standard Errors assume that the covariance matrix of the errors is correctly specified.\n",
      "[2] The condition number is large, 1.17e+03. This might indicate that there are\n",
      "strong multicollinearity or other numerical problems.\n",
      "   VIF Factor           features\n",
      "0    4.102915          Intercept\n",
      "1    3.425686       Tam_Cabeca_c\n",
      "2    1.416949               Sexo\n",
      "3    1.037890         Gr_Acima45\n",
      "4    2.804609  Tam_Cabeca_c:Sexo\n"
     ]
    }
   ],
   "source": [
    "#-- 2. tentativa - exclusão da interação Tam_Cabeca_c x Gr_Acima45 por possuir o maior p-value \n",
    "mod = ols('Peso_Cerebral ~ Tam_Cabeca_c + Sexo + Gr_Acima45 + Tam_Cabeca_c*Sexo ',data=data_reg)\n",
    "res = mod.fit()\n",
    "print(res.summary())\n",
    "\n",
    "##--Calculo do VIF (fator de inflação de variação)\n",
    "#-- Gerar uma matriz de experimento adequada para a regressão.\n",
    "y, X = dmatrices('Peso_Cerebral ~ Tam_Cabeca_c + Sexo + Gr_Acima45 + Tam_Cabeca_c*Sexo ',data=data_reg, return_type='dataframe')\n",
    "\n",
    "# For each X, calculate VIF and save in dataframe\n",
    "vif = pd.DataFrame()\n",
    "vif[\"VIF Factor\"] = [variance_inflation_factor(X.values, i) for i in range(X.shape[1])]\n",
    "vif[\"features\"] = X.columns\n",
    "print(vif)"
   ]
  },
  {
   "cell_type": "code",
   "execution_count": 34,
   "metadata": {},
   "outputs": [
    {
     "name": "stdout",
     "output_type": "stream",
     "text": [
      "                            OLS Regression Results                            \n",
      "==============================================================================\n",
      "Dep. Variable:          Peso_Cerebral   R-squared:                       0.638\n",
      "Model:                            OLS   Adj. R-squared:                  0.633\n",
      "Method:                 Least Squares   F-statistic:                     133.3\n",
      "Date:                Wed, 17 Jun 2020   Prob (F-statistic):           8.28e-50\n",
      "Time:                        08:59:00   Log-Likelihood:                -1296.3\n",
      "No. Observations:                 231   AIC:                             2601.\n",
      "Df Residuals:                     227   BIC:                             2614.\n",
      "Df Model:                           3                                         \n",
      "Covariance Type:            nonrobust                                         \n",
      "================================================================================\n",
      "                   coef    std err          t      P>|t|      [0.025      0.975]\n",
      "--------------------------------------------------------------------------------\n",
      "Intercept     1278.5555      8.169    156.511      0.000    1262.459    1294.652\n",
      "Tam_Cabeca_c     0.2306      0.015     15.680      0.000       0.202       0.260\n",
      "Sexo            20.1117     10.391      1.936      0.054      -0.363      40.586\n",
      "Gr_Acima45     -23.0462      8.977     -2.567      0.011     -40.736      -5.356\n",
      "==============================================================================\n",
      "Omnibus:                        1.140   Durbin-Watson:                   1.999\n",
      "Prob(Omnibus):                  0.566   Jarque-Bera (JB):                0.933\n",
      "Skew:                           0.150   Prob(JB):                        0.627\n",
      "Kurtosis:                       3.080   Cond. No.                         957.\n",
      "==============================================================================\n",
      "\n",
      "Warnings:\n",
      "[1] Standard Errors assume that the covariance matrix of the errors is correctly specified.\n",
      "   VIF Factor      features\n",
      "0    3.456178     Intercept\n",
      "1    1.375934  Tam_Cabeca_c\n",
      "2    1.378828          Sexo\n",
      "3    1.037849    Gr_Acima45\n"
     ]
    }
   ],
   "source": [
    "#-- 3. tentativa - exclusão da interação Tam_Cabeca_c x Sexo (com p-value alto) e mautenção da variável Sexo\n",
    "#   (também com p-value alto) para análise. \n",
    "mod = ols('Peso_Cerebral ~ Tam_Cabeca_c + Sexo + Gr_Acima45 ',data=data_reg)\n",
    "res = mod.fit()\n",
    "print(res.summary())\n",
    "\n",
    "##--Calculo do VIF (fator de inflação de variação)\n",
    "#-- Gerar uma matriz de experimento adequada para a regressão.\n",
    "y, X = dmatrices('Peso_Cerebral ~ Tam_Cabeca_c + Sexo + Gr_Acima45 ',data=data_reg, return_type='dataframe')\n",
    "\n",
    "# For each X, calculate VIF and save in dataframe\n",
    "vif = pd.DataFrame()\n",
    "vif[\"VIF Factor\"] = [variance_inflation_factor(X.values, i) for i in range(X.shape[1])]\n",
    "vif[\"features\"] = X.columns\n",
    "print(vif)"
   ]
  },
  {
   "cell_type": "markdown",
   "metadata": {},
   "source": [
    "> Existe o indicativo de possível falta de significância do parâmetro para a variável Sexo, pois o seu p-value está pouco acima de 5%. Dissidiou-se então, realizar o teste conjunto das variáveis categóricas Sexo e Gr_Acima45 com a finalidade de optar em manter ou não a variável Sexo no modelo."
   ]
  },
  {
   "cell_type": "code",
   "execution_count": 35,
   "metadata": {
    "scrolled": true
   },
   "outputs": [
    {
     "name": "stdout",
     "output_type": "stream",
     "text": [
      "[[0 0 0 1]\n",
      " [0 0 1 0]]\n",
      "<F test: F=array([[4.45466277]]), p=0.012657995052912336, df_denom=227, df_num=2>\n"
     ]
    }
   ],
   "source": [
    "##-- Teste connjunto para verificação dos parâmetros do modelo\n",
    "#-   H0: Sexo = Gr_Acima45 = 0 (são os dois últimos parâmetros de regressão do modelo)\n",
    "R = [[0, 0, 0, 1], [0, 0, 1, 0]]\n",
    "print(np.array(R))\n",
    "print(res.f_test(R))"
   ]
  },
  {
   "cell_type": "markdown",
   "metadata": {},
   "source": [
    "> No teste conjunto dos parâmetros de Sexo e Gr_Acima45 verificou-se que são diferentes de 0, existe significância e o p-value está abaixo de 5%. Optou-se então, em manter a variável Sexo no modelo.\n",
    "\n",
    "> Isto sugere que todos os parâmetros de regressão são significativamente diferentes de zero. Observa-se que o $R^2$ ajustado (63%), o AIC e o BIC, se mantêm com pouca variação se comparados aos  modelos anteriores.  \n",
    "\n",
    "> O novo modelo demonstra não ter indicativo de multicolinearidade, com VIF's (Fator de Inflação da Variância) considerados baixos.\n",
    "\n",
    "> Observa-se ainda, que o coeficiente de Durbin-Watson foi aproximadamente 2 (1,99) indicando que os resíduos não são autocorrelacionados.\n",
    "\n",
    "> Desta forma o modelo escolhido para dar continuidade nos trabalhos foi o da '3. tentativa' com as variáveis preditoras: Tam_Cabeca_c, Sexo e Gr_Acima45."
   ]
  },
  {
   "cell_type": "markdown",
   "metadata": {},
   "source": [
    "### Análise do resíduo"
   ]
  },
  {
   "cell_type": "code",
   "execution_count": 36,
   "metadata": {},
   "outputs": [],
   "source": [
    "# valores preditos de E(Y)\n",
    "ypred=res.fittedvalues\n",
    "\n",
    "# resíduo=observado-ajustado\n",
    "residuo = res.resid\n",
    "\n",
    "# objeto para a análise de pontos influentes\n",
    "infl = res.get_influence()\n",
    "\n",
    "# diagonal da matriz hat\n",
    "hii = infl.hat_matrix_diag\n",
    "\n",
    "# resíduo studentizado (internamente)\n",
    "res_stud = infl.resid_studentized_internal\n",
    "\n",
    "# resíduo studentizado com i-ésima observação deletada (externamente)\n",
    "res_stud_del = infl.resid_studentized_external\n",
    "\n",
    "# DFFITS\n",
    "(dffits,p) = infl.dffits\n",
    "\n",
    "# Distância de Cook\n",
    "(cook,p) = infl.cooks_distance"
   ]
  },
  {
   "cell_type": "code",
   "execution_count": 37,
   "metadata": {
    "scrolled": true
   },
   "outputs": [
    {
     "data": {
      "image/png": "[encoded data removed]",
      "text/plain": [
       "<Figure size 432x288 with 3 Axes>"
      ]
     },
     "metadata": {
      "needs_background": "light"
     },
     "output_type": "display_data"
    }
   ],
   "source": [
    "##-- Elabora os gráficos de todos os resíduos\n",
    "fig, (ax1, ax2, ax3) = plt.subplots(3)\n",
    "ax1.scatter(ypred, residuo)\n",
    "ax1.set_ylabel('$y-\\hat{y}$')\n",
    "ax1.set_title('Resíduos')\n",
    "ax1.hlines(0,xmin=min(ypred),xmax=max(ypred),color='gray')\n",
    "ax2.scatter(ypred, res_stud)\n",
    "ax2.set_ylabel('studentizado')\n",
    "ax2.hlines(0,xmin=min(ypred),xmax=max(ypred),color='gray')\n",
    "ax3.scatter(ypred, res_stud_del)\n",
    "ax3.set_ylabel('studentizado -(i)')\n",
    "ax3.hlines(0,xmin=min(ypred),xmax=max(ypred),color='gray')\n",
    "ax3.set_xlabel('$\\hat{Y}$')\n",
    "\n",
    "for ax in fig.get_axes():\n",
    "    ax.label_outer()"
   ]
  },
  {
   "cell_type": "code",
   "execution_count": 38,
   "metadata": {},
   "outputs": [
    {
     "data": {
      "image/png": "[encoded data removed]",
      "text/plain": [
       "<Figure size 432x288 with 1 Axes>"
      ]
     },
     "metadata": {
      "needs_background": "light"
     },
     "output_type": "display_data"
    }
   ],
   "source": [
    "# Verificando a suposição de distribuição Normal dos resíduos\n",
    "stats.probplot(residuo, plot=plt)\n",
    "plt.xlabel('quantis teóricos')\n",
    "plt.ylabel('resíduos ordenados')\n",
    "plt.show()"
   ]
  },
  {
   "cell_type": "markdown",
   "metadata": {},
   "source": [
    "> Observa-se que os resíduos se concentram em torno do eixo (zero) apresentando boa distribuição. O gráfico com resultados studentizados não possuem resíduos acima de 3 (em modulo), assim não têm indicativo de possuir outliers.\n",
    "\n",
    "> O gráfico dos resíduos versus a função dos quantis teóricos da distribuição normal nos mostra que aparentemente não existe problemas quanto a suposição de normalidade..\n",
    "\n",
    "> Destaca-se que a retirada de outliers no tratamento dos dados (início do trabalho) pode ter minimizado este efeito."
   ]
  },
  {
   "cell_type": "code",
   "execution_count": 39,
   "metadata": {},
   "outputs": [
    {
     "data": {
      "image/png": "[encoded data removed]",
      "text/plain": [
       "<Figure size 432x288 with 3 Axes>"
      ]
     },
     "metadata": {
      "needs_background": "light"
     },
     "output_type": "display_data"
    }
   ],
   "source": [
    "##-- Pontos Influentes\n",
    "fig, (ax1, ax2, ax3) = plt.subplots(3)\n",
    "ax1.scatter(data_reg.index, dffits)\n",
    "ax1.set_ylabel('DFFITS')\n",
    "ax1.set_title('Detecção de pontos influentes')\n",
    "ax1.hlines(0,xmin=1,xmax=102,color='gray')\n",
    "ax2.scatter(data_reg.index, cook)\n",
    "ax2.set_ylabel('distância de Cook')\n",
    "ax3.scatter(data_reg.index, hii)\n",
    "ax3.set_ylabel('$h_{ii}$')\n",
    "ax3.set_xlabel('índice')\n",
    "\n",
    "for ax in fig.get_axes():\n",
    "    ax.label_outer()"
   ]
  },
  {
   "cell_type": "code",
   "execution_count": 40,
   "metadata": {
    "scrolled": true
   },
   "outputs": [
    {
     "data": {
      "image/png": "[encoded data removed]",
      "text/plain": [
       "<Figure size 432x288 with 1 Axes>"
      ]
     },
     "execution_count": 40,
     "metadata": {},
     "output_type": "execute_result"
    },
    {
     "data": {
      "image/png": "[encoded data removed]",
      "text/plain": [
       "<Figure size 432x288 with 1 Axes>"
      ]
     },
     "metadata": {
      "needs_background": "light"
     },
     "output_type": "display_data"
    }
   ],
   "source": [
    "import statsmodels.api as sm\n",
    "\n",
    "# Gráficos dos resíduos\n",
    "sm.graphics.influence_plot(res)"
   ]
  },
  {
   "cell_type": "code",
   "execution_count": 41,
   "metadata": {},
   "outputs": [
    {
     "name": "stdout",
     "output_type": "stream",
     "text": [
      "Parâmetro limite de Hii:  0.03463203463203444\n",
      "0.03556948039831126\n",
      "0.04063087817294376\n",
      "0.035809355729194636\n",
      "0.03467694399657335\n",
      "0.037907518152775835\n",
      "0.04784086892420898\n"
     ]
    }
   ],
   "source": [
    "##-- Identificação de Hii´s acima do tolerado\n",
    "p = sum(hii)\n",
    "n = len(hii)\n",
    "hii_param = 2*p/n\n",
    "print('Parâmetro limite de Hii: ', hii_param )\n",
    "for i in hii:\n",
    "    if i > hii_param :\n",
    "        print(i)"
   ]
  },
  {
   "cell_type": "markdown",
   "metadata": {},
   "source": [
    "> Os DFFITS não apresentam casos superior a 1 e nem abaixo de -1, apresentando bom comportamento com relação aos resíduos. A distância de Cook apresenta 1 valor acima de 0,05. No gráfico do Hii aparecem 7 observações acima do parâmetro 0.035, porém apenas 1 mostra-se mais significativa (a de 0,47). O resultado abaixo lista estes valores.\n",
    "\n",
    "> O gráfico de resíduos studentizados versus H Leverage apresenta 1 valor com maior destaque, o resíduo 227. O caso deve ser verificado em termos de exclusão ou não do estudo. No entanto, deve-se ponderar a sua exclusão, levando-se em conta que foi feito tratamento de eliminação de outliers na preparação dos dados."
   ]
  },
  {
   "cell_type": "markdown",
   "metadata": {},
   "source": [
    "### Análise da diferença na relação entre os sexos e entre os grupos etários"
   ]
  },
  {
   "cell_type": "code",
   "execution_count": 42,
   "metadata": {},
   "outputs": [
    {
     "data": {
      "text/html": [
       "<div>\n",
       "<style scoped>\n",
       "    .dataframe tbody tr th:only-of-type {\n",
       "        vertical-align: middle;\n",
       "    }\n",
       "\n",
       "    .dataframe tbody tr th {\n",
       "        vertical-align: top;\n",
       "    }\n",
       "\n",
       "    .dataframe thead th {\n",
       "        text-align: right;\n",
       "    }\n",
       "</style>\n",
       "<table border=\"1\" class=\"dataframe\">\n",
       "  <thead>\n",
       "    <tr style=\"text-align: right;\">\n",
       "      <th></th>\n",
       "      <th>Sexo</th>\n",
       "      <th>Gr_Acima45</th>\n",
       "      <th>Tam_Cabeca</th>\n",
       "      <th>Peso_Cerebral</th>\n",
       "      <th>Tam_Cabeca_c</th>\n",
       "    </tr>\n",
       "  </thead>\n",
       "  <tbody>\n",
       "    <tr>\n",
       "      <td>count</td>\n",
       "      <td>231.000000</td>\n",
       "      <td>231.000000</td>\n",
       "      <td>231.000000</td>\n",
       "      <td>231.000000</td>\n",
       "      <td>2.310000e+02</td>\n",
       "    </tr>\n",
       "    <tr>\n",
       "      <td>mean</td>\n",
       "      <td>0.558442</td>\n",
       "      <td>0.536797</td>\n",
       "      <td>3625.549784</td>\n",
       "      <td>1277.415584</td>\n",
       "      <td>-6.378275e-13</td>\n",
       "    </tr>\n",
       "    <tr>\n",
       "      <td>std</td>\n",
       "      <td>0.497651</td>\n",
       "      <td>0.499727</td>\n",
       "      <td>351.268293</td>\n",
       "      <td>110.252873</td>\n",
       "      <td>3.512683e+02</td>\n",
       "    </tr>\n",
       "    <tr>\n",
       "      <td>min</td>\n",
       "      <td>0.000000</td>\n",
       "      <td>0.000000</td>\n",
       "      <td>2773.000000</td>\n",
       "      <td>1012.000000</td>\n",
       "      <td>-8.525498e+02</td>\n",
       "    </tr>\n",
       "    <tr>\n",
       "      <td>25%</td>\n",
       "      <td>0.000000</td>\n",
       "      <td>0.000000</td>\n",
       "      <td>3386.000000</td>\n",
       "      <td>1206.000000</td>\n",
       "      <td>-2.395498e+02</td>\n",
       "    </tr>\n",
       "    <tr>\n",
       "      <td>50%</td>\n",
       "      <td>1.000000</td>\n",
       "      <td>1.000000</td>\n",
       "      <td>3609.000000</td>\n",
       "      <td>1280.000000</td>\n",
       "      <td>-1.654978e+01</td>\n",
       "    </tr>\n",
       "    <tr>\n",
       "      <td>75%</td>\n",
       "      <td>1.000000</td>\n",
       "      <td>1.000000</td>\n",
       "      <td>3860.500000</td>\n",
       "      <td>1350.000000</td>\n",
       "      <td>2.349502e+02</td>\n",
       "    </tr>\n",
       "    <tr>\n",
       "      <td>max</td>\n",
       "      <td>1.000000</td>\n",
       "      <td>1.000000</td>\n",
       "      <td>4512.000000</td>\n",
       "      <td>1560.000000</td>\n",
       "      <td>8.864502e+02</td>\n",
       "    </tr>\n",
       "  </tbody>\n",
       "</table>\n",
       "</div>"
      ],
      "text/plain": [
       "             Sexo  Gr_Acima45   Tam_Cabeca  Peso_Cerebral  Tam_Cabeca_c\n",
       "count  231.000000  231.000000   231.000000     231.000000  2.310000e+02\n",
       "mean     0.558442    0.536797  3625.549784    1277.415584 -6.378275e-13\n",
       "std      0.497651    0.499727   351.268293     110.252873  3.512683e+02\n",
       "min      0.000000    0.000000  2773.000000    1012.000000 -8.525498e+02\n",
       "25%      0.000000    0.000000  3386.000000    1206.000000 -2.395498e+02\n",
       "50%      1.000000    1.000000  3609.000000    1280.000000 -1.654978e+01\n",
       "75%      1.000000    1.000000  3860.500000    1350.000000  2.349502e+02\n",
       "max      1.000000    1.000000  4512.000000    1560.000000  8.864502e+02"
      ]
     },
     "execution_count": 42,
     "metadata": {},
     "output_type": "execute_result"
    }
   ],
   "source": [
    "data_reg.describe()"
   ]
  },
  {
   "cell_type": "code",
   "execution_count": 43,
   "metadata": {},
   "outputs": [
    {
     "data": {
      "image/png": "[encoded data removed]",
      "text/plain": [
       "<Figure size 432x288 with 1 Axes>"
      ]
     },
     "metadata": {
      "needs_background": "light"
     },
     "output_type": "display_data"
    }
   ],
   "source": [
    "import itertools\n",
    "\n",
    "##### Entendendo o que é a interação\n",
    "x = np.linspace(3000,4600) #-- Tamanho da Cabeça\n",
    "y1 = (1278.5555+20.1117) + 0.2306*(x-3625.5497)  # Sexo Maculino\n",
    "y2 = (1278.5555) + 0.2306*(x-3625.5497)  # Sexo Feminio\n",
    "y3 = (1278.5555+20.1117-23.0462) + 0.2306*(x-3625.5497)  # Sexo Maculino e Grupo Etário Maior que 45 anos\n",
    "y4 = (1278.5555-23.0462) + 0.2306*(x-3625.5497)     # Sexo Feminino e Grupo Etário Maior que 45 anos\n",
    "\n",
    "plt.plot(x, y1, label=\"Sexo Maculino\", color=\"blue\")\n",
    "plt.plot(x, y2, label=\"Sexo Feminio\", color=\"red\")\n",
    "plt.plot(x, y3, label=\"Masc 45\",color=\"gray\")\n",
    "plt.plot(x, y4, label=\"Fem 45\",color=\"green\")\n",
    "colors = itertools.cycle([\"r\", \"b\", \"gray\"])\n",
    "groups = df.groupby(\"Sexo\")\n",
    "for name, group in groups:\n",
    "    plt.plot(group[\"Tam_Cabeca\"], group[\"Peso_Cerebral\"], marker=\"o\", linestyle=\"\", label=name, color=next(colors))\n",
    "plt.legend()\n",
    "plt.xlabel(\"Tam_Cabeca\")\n",
    "plt.ylabel(\"Peso_Cerebral\")\n",
    "plt.show()"
   ]
  },
  {
   "cell_type": "markdown",
   "metadata": {},
   "source": [
    "### 3) Estimar o peso médio do cérebro de homens e de mulheres (pontual e intervalar)."
   ]
  },
  {
   "cell_type": "code",
   "execution_count": 44,
   "metadata": {},
   "outputs": [
    {
     "data": {
      "text/html": [
       "<div>\n",
       "<style scoped>\n",
       "    .dataframe tbody tr th:only-of-type {\n",
       "        vertical-align: middle;\n",
       "    }\n",
       "\n",
       "    .dataframe tbody tr th {\n",
       "        vertical-align: top;\n",
       "    }\n",
       "\n",
       "    .dataframe thead tr th {\n",
       "        text-align: left;\n",
       "    }\n",
       "\n",
       "    .dataframe thead tr:last-of-type th {\n",
       "        text-align: right;\n",
       "    }\n",
       "</style>\n",
       "<table border=\"1\" class=\"dataframe\">\n",
       "  <thead>\n",
       "    <tr>\n",
       "      <th></th>\n",
       "      <th colspan=\"8\" halign=\"left\">Peso_Cerebral</th>\n",
       "      <th colspan=\"8\" halign=\"left\">Tam_Cabeca</th>\n",
       "    </tr>\n",
       "    <tr>\n",
       "      <th></th>\n",
       "      <th>count</th>\n",
       "      <th>mean</th>\n",
       "      <th>std</th>\n",
       "      <th>min</th>\n",
       "      <th>25%</th>\n",
       "      <th>50%</th>\n",
       "      <th>75%</th>\n",
       "      <th>max</th>\n",
       "      <th>count</th>\n",
       "      <th>mean</th>\n",
       "      <th>std</th>\n",
       "      <th>min</th>\n",
       "      <th>25%</th>\n",
       "      <th>50%</th>\n",
       "      <th>75%</th>\n",
       "      <th>max</th>\n",
       "    </tr>\n",
       "    <tr>\n",
       "      <th>Sexo</th>\n",
       "      <th></th>\n",
       "      <th></th>\n",
       "      <th></th>\n",
       "      <th></th>\n",
       "      <th></th>\n",
       "      <th></th>\n",
       "      <th></th>\n",
       "      <th></th>\n",
       "      <th></th>\n",
       "      <th></th>\n",
       "      <th></th>\n",
       "      <th></th>\n",
       "      <th></th>\n",
       "      <th></th>\n",
       "      <th></th>\n",
       "      <th></th>\n",
       "    </tr>\n",
       "  </thead>\n",
       "  <tbody>\n",
       "    <tr>\n",
       "      <td>0</td>\n",
       "      <td>102.0</td>\n",
       "      <td>1221.735294</td>\n",
       "      <td>100.944542</td>\n",
       "      <td>1012.0</td>\n",
       "      <td>1152.5</td>\n",
       "      <td>1220.0</td>\n",
       "      <td>1290.0</td>\n",
       "      <td>1520.0</td>\n",
       "      <td>102.0</td>\n",
       "      <td>3427.147059</td>\n",
       "      <td>288.091171</td>\n",
       "      <td>2773.0</td>\n",
       "      <td>3220.5</td>\n",
       "      <td>3397.5</td>\n",
       "      <td>3639.5</td>\n",
       "      <td>4204.0</td>\n",
       "    </tr>\n",
       "    <tr>\n",
       "      <td>1</td>\n",
       "      <td>129.0</td>\n",
       "      <td>1321.441860</td>\n",
       "      <td>96.839421</td>\n",
       "      <td>1120.0</td>\n",
       "      <td>1250.0</td>\n",
       "      <td>1310.0</td>\n",
       "      <td>1390.0</td>\n",
       "      <td>1560.0</td>\n",
       "      <td>129.0</td>\n",
       "      <td>3782.426357</td>\n",
       "      <td>316.315477</td>\n",
       "      <td>3095.0</td>\n",
       "      <td>3527.0</td>\n",
       "      <td>3785.0</td>\n",
       "      <td>4012.0</td>\n",
       "      <td>4512.0</td>\n",
       "    </tr>\n",
       "  </tbody>\n",
       "</table>\n",
       "</div>"
      ],
      "text/plain": [
       "     Peso_Cerebral                                                           \\\n",
       "             count         mean         std     min     25%     50%     75%   \n",
       "Sexo                                                                          \n",
       "0            102.0  1221.735294  100.944542  1012.0  1152.5  1220.0  1290.0   \n",
       "1            129.0  1321.441860   96.839421  1120.0  1250.0  1310.0  1390.0   \n",
       "\n",
       "             Tam_Cabeca                                                   \\\n",
       "         max      count         mean         std     min     25%     50%   \n",
       "Sexo                                                                       \n",
       "0     1520.0      102.0  3427.147059  288.091171  2773.0  3220.5  3397.5   \n",
       "1     1560.0      129.0  3782.426357  316.315477  3095.0  3527.0  3785.0   \n",
       "\n",
       "                      \n",
       "         75%     max  \n",
       "Sexo                  \n",
       "0     3639.5  4204.0  \n",
       "1     4012.0  4512.0  "
      ]
     },
     "execution_count": 44,
     "metadata": {},
     "output_type": "execute_result"
    }
   ],
   "source": [
    "##-- Peso cerebral por Sexo\n",
    "data.groupby('Sexo')['Peso_Cerebral', 'Tam_Cabeca'].describe()"
   ]
  },
  {
   "cell_type": "code",
   "execution_count": 45,
   "metadata": {},
   "outputs": [],
   "source": [
    "from scipy import stats\n",
    "from scipy.stats import norm\n",
    "from statistics import mean, pstdev, stdev"
   ]
  },
  {
   "cell_type": "markdown",
   "metadata": {},
   "source": [
    "#### Sexo Masculino"
   ]
  },
  {
   "cell_type": "code",
   "execution_count": 46,
   "metadata": {},
   "outputs": [
    {
     "data": {
      "text/plain": [
       "(0.988551676273346, 0.36110225319862366)"
      ]
     },
     "execution_count": 46,
     "metadata": {},
     "output_type": "execute_result"
    }
   ],
   "source": [
    "##-- Verificar normalidade para a variável Peso Cerebral com a finaldiade de estimar a média e o intervalo de confiança\n",
    "## O teste de Shapiro-Wilk testa a hipótese nula de que os dados foram extraídos de uma distribuição normal\n",
    "x = data_reg.loc[data_reg['Sexo']==1,'Peso_Cerebral'] # Sexo Masculino\n",
    "stats.shapiro(x)"
   ]
  },
  {
   "cell_type": "markdown",
   "metadata": {},
   "source": [
    "> Podemos assumir a normalidade da amostra, pois o p-value (0,3611) superior a 5%."
   ]
  },
  {
   "cell_type": "code",
   "execution_count": 47,
   "metadata": {},
   "outputs": [
    {
     "name": "stdout",
     "output_type": "stream",
     "text": [
      "Média da amostra: 1321.44. Desvio Padrão da Amostra: 96.46\n",
      "Melhor Média Estimada: 1321.42\n"
     ]
    },
    {
     "data": {
      "text/plain": [
       "<matplotlib.legend.Legend at 0x16fa510fc08>"
      ]
     },
     "execution_count": 47,
     "metadata": {},
     "output_type": "execute_result"
    },
    {
     "data": {
      "image/png": "[encoded data removed]",
      "text/plain": [
       "<Figure size 432x288 with 1 Axes>"
      ]
     },
     "metadata": {
      "needs_background": "light"
     },
     "output_type": "display_data"
    }
   ],
   "source": [
    "#Conhecendo a forma da função log-verossimilhança no exemplo da amostra da distribuição Normal\n",
    "# \n",
    "import numpy as np\n",
    "import matplotlib.pyplot as plt\n",
    "from scipy import stats\n",
    "\n",
    "def get_ll_normal(x, mu, sigma):\n",
    "    return np.sum(np.log(stats.norm.pdf(x, mu, sigma)))\n",
    "\n",
    "x = data_reg.loc[data_reg['Sexo']==1,'Peso_Cerebral'] # Sexo Masculino   \n",
    "print('Média da amostra: %.2f. Desvio Padrão da Amostra: %.2f' % (np.mean(x),np.std(x)) ) \n",
    "\n",
    "\n",
    "sigma = np.std(x) # # parâmetro fixo, igualado ao desvio padrão amostral\n",
    "theta = np.linspace(1000, 1650, 1000) # parâmetro que vamos variar (mu)\n",
    "f_theta1 = np.array([get_ll_normal(x, mu, sigma) for mu in theta])\n",
    "\n",
    "i_best = np.argmax(f_theta1) # cálculo (numérico) do estimador de máxima verossimilhança (EMV) de mu\n",
    "print('Melhor Média Estimada: %.2f' % theta[i_best])\n",
    "\n",
    "plt.plot(theta, f_theta1, label = r'$\\sigma^2=96^2$')\n",
    "plt.plot([theta[i_best]], [f_theta1[i_best]], 'r*') # coloca uma estrelinha no maior valor (EMV)\n",
    "plt.legend()"
   ]
  },
  {
   "cell_type": "code",
   "execution_count": 48,
   "metadata": {},
   "outputs": [
    {
     "name": "stdout",
     "output_type": "stream",
     "text": [
      "IC ( 1304.57 ,  1338.31 )\n"
     ]
    }
   ],
   "source": [
    "##-- Intervalo de confiança para a média \n",
    "import statsmodels.stats.api as sms\n",
    "\n",
    "lim = sms.DescrStatsW(x).tconfint_mean() # IC para média de uma Normal (desvio padrão populacioanl desconhecido)\n",
    "print ('IC ( %.2f ,  %.2f )'  % (lim[0],lim[1]))"
   ]
  },
  {
   "cell_type": "markdown",
   "metadata": {},
   "source": [
    "#### Sexo Feminino"
   ]
  },
  {
   "cell_type": "code",
   "execution_count": 49,
   "metadata": {},
   "outputs": [
    {
     "data": {
      "text/plain": [
       "(0.9910722374916077, 0.7391230463981628)"
      ]
     },
     "execution_count": 49,
     "metadata": {},
     "output_type": "execute_result"
    }
   ],
   "source": [
    "##-- Verificar normalidade para a variável Peso Cerebral com a finaldiade de estimar a média e o intervalo de confiança\n",
    "## O teste de Shapiro-Wilk testa a hipótese nula de que os dados foram extraídos de uma distribuição normal\n",
    "x = data_reg.loc[data_reg['Sexo']==0,'Peso_Cerebral'] # Sexo Feminino\n",
    "stats.shapiro(x)"
   ]
  },
  {
   "cell_type": "markdown",
   "metadata": {},
   "source": [
    "> Podemos assumir a normalidade da amostra, pois o p-value (0,7391) superior a 5%."
   ]
  },
  {
   "cell_type": "code",
   "execution_count": 50,
   "metadata": {},
   "outputs": [
    {
     "name": "stdout",
     "output_type": "stream",
     "text": [
      "Média da amostra: 1221.74. Desvio Padrão da Amostra: 100.45\n",
      "Melhor Média Estimada: 1222.02\n"
     ]
    },
    {
     "data": {
      "text/plain": [
       "<matplotlib.legend.Legend at 0x16fa5157e48>"
      ]
     },
     "execution_count": 50,
     "metadata": {},
     "output_type": "execute_result"
    },
    {
     "data": {
      "image/png": "[encoded data removed]",
      "text/plain": [
       "<Figure size 432x288 with 1 Axes>"
      ]
     },
     "metadata": {
      "needs_background": "light"
     },
     "output_type": "display_data"
    }
   ],
   "source": [
    "#Conhecendo a forma da função log-verossimilhança no exemplo da amostra da distribuição Normal\n",
    "# \n",
    "import numpy as np\n",
    "import matplotlib.pyplot as plt\n",
    "from scipy import stats\n",
    "\n",
    "def get_ll_normal(x, mu, sigma):\n",
    "    return np.sum(np.log(stats.norm.pdf(x, mu, sigma)))\n",
    "\n",
    "x = data_reg.loc[data_reg['Sexo']==0,'Peso_Cerebral'] # Sexo Feminino   \n",
    "print('Média da amostra: %.2f. Desvio Padrão da Amostra: %.2f' % (np.mean(x),np.std(x)) ) \n",
    "\n",
    "\n",
    "sigma = np.std(x) # # parâmetro fixo, igualado ao desvio padrão amostral\n",
    "theta = np.linspace(800, 1650, 1000) # parâmetro que vamos variar (mu)\n",
    "f_theta1 = np.array([get_ll_normal(x, mu, sigma) for mu in theta])\n",
    "\n",
    "i_best = np.argmax(f_theta1) # cálculo (numérico) do estimador de máxima verossimilhança (EMV) de mu\n",
    "print('Melhor Média Estimada: %.2f' % theta[i_best])\n",
    "\n",
    "plt.plot(theta, f_theta1, label = r'$\\sigma^2=100^2$')\n",
    "plt.plot([theta[i_best]], [f_theta1[i_best]], 'r*') # coloca uma estrelinha no maior valor (EMV)\n",
    "plt.legend()"
   ]
  },
  {
   "cell_type": "code",
   "execution_count": 51,
   "metadata": {},
   "outputs": [
    {
     "name": "stdout",
     "output_type": "stream",
     "text": [
      "IC ( 1201.91 ,  1241.56 )\n"
     ]
    }
   ],
   "source": [
    "##-- Intervalo de confiança para a média \n",
    "import statsmodels.stats.api as sms\n",
    "\n",
    "lim = sms.DescrStatsW(x).tconfint_mean() # IC para média de uma Normal (desvio padrão populacioanl desconhecido)\n",
    "print ('IC ( %.2f ,  %.2f )'  % (lim[0],lim[1]))"
   ]
  },
  {
   "cell_type": "markdown",
   "metadata": {},
   "source": [
    "## Solução para estimar o peso médio do cérebro de homens e de mulheres (pontual e intervalar) através da estatística bayesiana"
   ]
  },
  {
   "cell_type": "code",
   "execution_count": 52,
   "metadata": {},
   "outputs": [
    {
     "name": "stderr",
     "output_type": "stream",
     "text": [
      "WARNING (theano.configdefaults): g++ not available, if using conda: `conda install m2w64-toolchain`\n",
      "C:\\Users\\romul\\Anaconda3\\lib\\site-packages\\theano\\configdefaults.py:560: UserWarning: DeprecationWarning: there is no c++ compiler.This is deprecated and with Theano 0.11 a c++ compiler will be mandatory\n",
      "  warnings.warn(\"DeprecationWarning: there is no c++ compiler.\"\n",
      "WARNING (theano.configdefaults): g++ not detected ! Theano will be unable to execute optimized C-implementations (for both CPU and GPU) and will default to Python implementations. Performance will be severely degraded. To remove this warning, set Theano flags cxx to an empty string.\n",
      "WARNING (theano.tensor.blas): Using NumPy C-API based implementation for BLAS functions.\n"
     ]
    }
   ],
   "source": [
    "%matplotlib inline\n",
    "import numpy as np\n",
    "import theano.tensor as tt\n",
    "import pymc3 as pm\n",
    "import pymc3 \n",
    "\n",
    "import seaborn as sns\n",
    "import matplotlib.pyplot as plt\n",
    "\n",
    "sns.set_context('notebook')\n",
    "plt.style.use('seaborn-darkgrid')"
   ]
  },
  {
   "cell_type": "markdown",
   "metadata": {},
   "source": [
    "> Para estimar o peso médio do cérebro de homens e de mulheres através do método bayesiano, foi utilizado o método Máximo Probabilidade a Posteriori (MAP) e o Métodos de Monte Carlo via Cadeias de Markov (MCMC).\n",
    "\n",
    "> De forma similar ao caso da máxima verossimilhança, o MAP é o valor de θ (parâmetro) que maximiza a função a posteriori.\n",
    "\n",
    "> Por sua vez, a MCMC é um processo que transforma um problema com característica estática num problema de natureza dinâmica, construindo um processo estocástico temporal, que convirja, fracamente, para a distribuição original. Supõe-se que esse processo temporal é uma cadeia de Markov homogênea cuja distribuição de equilíbrio é a distribuição que será simulada. O algoritmo Metropolis-Hastings dá suporte a construção de cadeiras de Markov com distribuições de equilíbrio. A associação deste algoritmo com a simulação de distribuições pelo método de Monte Carlo busca resultados com aproximação de integrais. A finalidade é que os métodos possam ser utilizados de forma a simular distribuições a posteriori na resolução de problemas de inferência Bayesiana.\n",
    "\n",
    "> Considerando o problema em questão, as médias do peso cerebral para homens e para mulheres foi recuperada através de pesquisa encontrada no site:\n",
    "https://super.abril.com.br/historia/o-peso-do-cerebro/#:~:text=No%20s%C3%A9culo%2019%2Co%20fisiologista,era%20de%201%20250%20gramas. Acessado em 12/6/2020.\n",
    "\n",
    ">Como nas informações da pesquisa não havia o desvio-padrão, e considerando que pelo teste de Levene feito no item 3.1.1 as variâncias dos pesos dos cérebros de homens e de mulheres podem ser consideradas iguais, apesar de suas médias serem consideradas diferentes (verificação feita através do t de Student no item 3.1.2), considerou-se no problema, a estimativa robusta do desvio padrão [ds = (Q3 - Q1)/ 1.34898] para a população para fazer a simulação da posteriori.\n"
   ]
  },
  {
   "cell_type": "markdown",
   "metadata": {},
   "source": [
    "#### Sexo Masculino"
   ]
  },
  {
   "cell_type": "code",
   "execution_count": 58,
   "metadata": {},
   "outputs": [
    {
     "data": {
      "text/plain": [
       "103.78211685866357"
      ]
     },
     "execution_count": 58,
     "metadata": {},
     "output_type": "execute_result"
    }
   ],
   "source": [
    "##-- Estimativa do desvio padrão para a população, considerando o sexo masculino, considerando que há simetria na distribuição\n",
    "var = data_reg.loc[data_reg['Sexo']==1,'Peso_Cerebral'] # Sexo Masculino \n",
    "\n",
    "Q1 = var.quantile(0.25)\n",
    "Q3 = var.quantile(0.75)\n",
    "  \n",
    "ds = (Q3 - Q1)/ 1.34898\n",
    "ds"
   ]
  },
  {
   "cell_type": "code",
   "execution_count": 60,
   "metadata": {
    "scrolled": false
   },
   "outputs": [
    {
     "name": "stdout",
     "output_type": "stream",
     "text": [
      "Desvio Padrão amostral:  96.46334460484262\n"
     ]
    },
    {
     "name": "stderr",
     "output_type": "stream",
     "text": [
      "logp = -783.68, ||grad|| = 0.39591: 100%|███████████████████████████████████████████████| 5/5 [00:00<00:00, 358.13it/s]\n"
     ]
    },
    {
     "name": "stdout",
     "output_type": "stream",
     "text": [
      "{'mu': array(1321.63184618)}\n"
     ]
    },
    {
     "name": "stderr",
     "output_type": "stream",
     "text": [
      "Auto-assigning NUTS sampler...\n",
      "Initializing NUTS using jitter+adapt_diag...\n",
      "Sequential sampling (2 chains in 1 job)\n",
      "NUTS: [mu]\n",
      "Sampling chain 0, 0 divergences: 100%|████████████████████████████████████████████| 6000/6000 [00:33<00:00, 178.51it/s]\n",
      "Sampling chain 1, 0 divergences: 100%|████████████████████████████████████████████| 6000/6000 [00:34<00:00, 173.63it/s]\n"
     ]
    },
    {
     "name": "stdout",
     "output_type": "stream",
     "text": [
      "        mean     sd    hdi_3%   hdi_97%  mcse_mean  mcse_sd  ess_mean  ess_sd  \\\n",
      "mu  1321.742  8.475  1305.832  1337.376      0.127     0.09    4455.0  4455.0   \n",
      "\n",
      "    ess_bulk  ess_tail  r_hat  \n",
      "mu    4472.0    7132.0    1.0  \n"
     ]
    },
    {
     "data": {
      "image/png": "[encoded data removed]",
      "text/plain": [
       "<Figure size 432x288 with 1 Axes>"
      ]
     },
     "metadata": {},
     "output_type": "display_data"
    }
   ],
   "source": [
    "# Simula com o conjunto de dados Masculino\n",
    "data = data_reg.loc[data_reg['Sexo']==1,'Peso_Cerebral'] # Sexo Masculino \n",
    "sigma =np.std(data) #  parâmetro fixo, igualado ao desvio padrão amostral\n",
    "print ('Desvio Padrão amostral: ', sigma)\n",
    "\n",
    "# Cria o modelo com a priori Normal com base nos dados observados e a partir da verossimilhança.\n",
    "def creat_model_pymc3(data):\n",
    "        with pymc3.Model() as model:\n",
    "                mu = pm.Normal('mu', mu=1350, sigma=ds) #-- mu=dados pesquisa  sigma=estimativa do desvio padrao\n",
    "                obs = pm.Normal('obs', mu=mu, sigma=sigma, observed=data) #-- dados obeservados\n",
    "        return model\n",
    "    \n",
    "model = creat_model_pymc3(data)\n",
    "\n",
    "# Estima a probabilidade de sucesso pela Normal por MAP\n",
    "map_estimate = pymc3.find_MAP(model=model)\n",
    "print(map_estimate)\n",
    "\n",
    "# Usa MCMC para simular observações da posteriori (método de cálculo da posteriori por simulação)\n",
    "# o primeiro valor (5000) especifica o número de observações que serão geradas da função a posteriori \n",
    "# para a obtenção do estimador bayesiano; tune=1000 representa o número de observações descartadas\n",
    "# para melhorar a aproximação da posteriori\n",
    "with model:\n",
    "    trace = pymc3.sample(5000, tune=1000, cores=1)\n",
    "\n",
    "# Resulta a média da posteriori (EAP), desvio padrão, intervalo de credibilidade HPD (intervalo e menos amplitude)....\n",
    "summary=pymc3.summary(trace)\n",
    "print(summary)\n",
    "\n",
    "# Representa a posteriori, a média e o intervalo de credibilidade com menor amplitude, denotado por HPI (por simulação MCMC) \n",
    "pymc3.plot_posterior(trace);"
   ]
  },
  {
   "cell_type": "markdown",
   "metadata": {},
   "source": [
    "  #### Sexo Feminino"
   ]
  },
  {
   "cell_type": "code",
   "execution_count": 61,
   "metadata": {},
   "outputs": [
    {
     "data": {
      "text/plain": [
       "101.92886477190173"
      ]
     },
     "execution_count": 61,
     "metadata": {},
     "output_type": "execute_result"
    }
   ],
   "source": [
    "##-- Estimativa do desvio padrão para a população, considerando o sexo masculino, considerando que há simetria na distribuição\n",
    "var = data_reg.loc[data_reg['Sexo']==0,'Peso_Cerebral'] # Sexo Feminino \n",
    "\n",
    "Q1 = var.quantile(0.25)\n",
    "Q3 = var.quantile(0.75)\n",
    "  \n",
    "ds = (Q3 - Q1)/ 1.34898\n",
    "ds"
   ]
  },
  {
   "cell_type": "code",
   "execution_count": 62,
   "metadata": {},
   "outputs": [
    {
     "name": "stdout",
     "output_type": "stream",
     "text": [
      "Desvio Padrão amostral:  100.44849684804217\n"
     ]
    },
    {
     "name": "stderr",
     "output_type": "stream",
     "text": [
      "logp = -624.5, ||grad|| = 0.28573: 100%|████████████████████████████████████████████████| 5/5 [00:00<00:00, 499.81it/s]\n"
     ]
    },
    {
     "name": "stdout",
     "output_type": "stream",
     "text": [
      "{'mu': array(1222.00187031)}\n"
     ]
    },
    {
     "name": "stderr",
     "output_type": "stream",
     "text": [
      "Auto-assigning NUTS sampler...\n",
      "Initializing NUTS using jitter+adapt_diag...\n",
      "Sequential sampling (2 chains in 1 job)\n",
      "NUTS: [mu]\n",
      "Sampling chain 0, 0 divergences: 100%|████████████████████████████████████████████| 6000/6000 [00:25<00:00, 239.02it/s]\n",
      "Sampling chain 1, 0 divergences: 100%|████████████████████████████████████████████| 6000/6000 [00:26<00:00, 226.34it/s]\n"
     ]
    },
    {
     "name": "stdout",
     "output_type": "stream",
     "text": [
      "        mean     sd    hdi_3%  hdi_97%  mcse_mean  mcse_sd  ess_mean  ess_sd  \\\n",
      "mu  1221.918  9.762  1203.304  1239.85      0.148    0.105    4322.0  4322.0   \n",
      "\n",
      "    ess_bulk  ess_tail  r_hat  \n",
      "mu    4319.0    6273.0    1.0  \n"
     ]
    },
    {
     "data": {
      "image/png": "[encoded data removed]",
      "text/plain": [
       "<Figure size 432x288 with 1 Axes>"
      ]
     },
     "metadata": {},
     "output_type": "display_data"
    }
   ],
   "source": [
    "# Simula com o conjunto de dados Feminino\n",
    "data = data_reg.loc[data_reg['Sexo']==0,'Peso_Cerebral'] # Sexo Feminino \n",
    "sigma =np.std(data) #  parâmetro fixo, igualado ao desvio padrão amostral\n",
    "print ('Desvio Padrão amostral: ', sigma)\n",
    "\n",
    "# Cria o modelo com a priori Normal com base nos dados observados e a partir da verossimilhança.\n",
    "def creat_model_pymc3(data):\n",
    "        with pymc3.Model() as model:\n",
    "                mu = pm.Normal('mu', mu=1250, sigma=ds) #-- mu=dados pesquisa  sigma=estimativa do desvio padrao\n",
    "                obs = pm.Normal('obs', mu=mu, sigma=sigma, observed=data) #-- dados obeservados\n",
    "        return model\n",
    "    \n",
    "model = creat_model_pymc3(data)\n",
    "\n",
    "# Estima a probabilidade de sucesso pela Normal por MAP\n",
    "map_estimate = pymc3.find_MAP(model=model)\n",
    "print(map_estimate)\n",
    "\n",
    "# Usa MCMC para simular observações da posteriori (método de cálculo da posteriori por simulação)\n",
    "# o primeiro valor (5000) especifica o número de observações que serão geradas da função a posteriori \n",
    "# para a obtenção do estimador bayesiano; tune=1000 representa o número de observações descartadas\n",
    "# para melhorar a aproximação da posteriori\n",
    "with model:\n",
    "    trace = pymc3.sample(5000, tune=1000, cores=1)\n",
    "\n",
    "# Resulta a média da posteriori (EAP), desvio padrão, intervalo de credibilidade HPD (intervalo e menos amplitude)....\n",
    "summary=pymc3.summary(trace)\n",
    "print(summary)\n",
    "\n",
    "# Representa a posteriori, a média e o intervalo de credibilidade com menor amplitude, denotado por HPI (por simulação MCMC) \n",
    "pymc3.plot_posterior(trace);"
   ]
  },
  {
   "cell_type": "code",
   "execution_count": null,
   "metadata": {},
   "outputs": [],
   "source": []
  }
 ],
 "metadata": {
  "kernelspec": {
   "display_name": "Python 3",
   "language": "python",
   "name": "python3"
  },
  "language_info": {
   "codemirror_mode": {
    "name": "ipython",
    "version": 3
   },
   "file_extension": ".py",
   "mimetype": "text/x-python",
   "name": "python",
   "nbconvert_exporter": "python",
   "pygments_lexer": "ipython3",
   "version": "3.7.7"
  }
 },
 "nbformat": 4,
 "nbformat_minor": 2
}
