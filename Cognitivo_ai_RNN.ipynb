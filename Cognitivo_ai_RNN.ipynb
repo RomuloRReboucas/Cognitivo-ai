{
  "nbformat": 4,
  "nbformat_minor": 0,
  "metadata": {
    "colab": {
      "name": "Cognitivo-ai RNN.ipynb",
      "provenance": [],
      "collapsed_sections": []
    },
    "kernelspec": {
      "display_name": "Python 3",
      "language": "python",
      "name": "python3"
    },
    "language_info": {
      "codemirror_mode": {
        "name": "ipython",
        "version": 3
      },
      "file_extension": ".py",
      "mimetype": "text/x-python",
      "name": "python",
      "nbconvert_exporter": "python",
      "pygments_lexer": "ipython3",
      "version": "3.8.6"
    },
    "accelerator": "GPU"
  },
  "cells": [
    {
      "cell_type": "markdown",
      "metadata": {
        "id": "K8CDQUj8yqpq"
      },
      "source": [
        "## TESTE TÉCNICO DATA SCIENCE\n",
        "#2) Modelagem - Redes Neurais \n",
        "## <span style=\"color:darkred\">Rômulo Róseo Rebouças</span>"
      ]
    },
    {
      "cell_type": "code",
      "metadata": {
        "id": "yEk8qVW8VJeu"
      },
      "source": [
        "import random\n",
        "import numpy as np\n",
        "import matplotlib.pyplot as plt\n",
        "import tensorflow as tf\n",
        "from numpy.random import seed\n",
        "from tensorflow.random import set_seed\n",
        "from tensorflow import keras\n",
        "from tensorflow.keras import layers\n",
        "from keras.models import Model, Sequential\n",
        "\n",
        "import numpy as np\n",
        "import pandas as pd\n",
        "import matplotlib"
      ],
      "execution_count": 1,
      "outputs": []
    },
    {
      "cell_type": "markdown",
      "metadata": {
        "id": "4G9Hzl0cNcV0"
      },
      "source": [
        "# **RNN com base de dados sem tratamento de balanceamento**"
      ]
    },
    {
      "cell_type": "code",
      "metadata": {
        "scrolled": true,
        "id": "9kRbB8M0VJeu",
        "colab": {
          "base_uri": "https://localhost:8080/",
          "height": 406
        },
        "outputId": "ea1ad29b-55c6-422f-9315-be613d48808e"
      },
      "source": [
        "##-- Leitua Cadastro sem balanceamento\n",
        "df = pd.read_pickle('bd_SemBalanceamento.pkl') \n",
        "df"
      ],
      "execution_count": 2,
      "outputs": [
        {
          "output_type": "execute_result",
          "data": {
            "text/html": [
              "<div>\n",
              "<style scoped>\n",
              "    .dataframe tbody tr th:only-of-type {\n",
              "        vertical-align: middle;\n",
              "    }\n",
              "\n",
              "    .dataframe tbody tr th {\n",
              "        vertical-align: top;\n",
              "    }\n",
              "\n",
              "    .dataframe thead th {\n",
              "        text-align: right;\n",
              "    }\n",
              "</style>\n",
              "<table border=\"1\" class=\"dataframe\">\n",
              "  <thead>\n",
              "    <tr style=\"text-align: right;\">\n",
              "      <th></th>\n",
              "      <th>price</th>\n",
              "      <th>minimum_nights</th>\n",
              "      <th>number_of_reviews</th>\n",
              "      <th>calculated_host_listings_count</th>\n",
              "      <th>availability_365</th>\n",
              "      <th>neighbourhood_cod</th>\n",
              "      <th>room_type_tgt</th>\n",
              "    </tr>\n",
              "  </thead>\n",
              "  <tbody>\n",
              "    <tr>\n",
              "      <th>0</th>\n",
              "      <td>221</td>\n",
              "      <td>5</td>\n",
              "      <td>260</td>\n",
              "      <td>1</td>\n",
              "      <td>304</td>\n",
              "      <td>32</td>\n",
              "      <td>0</td>\n",
              "    </tr>\n",
              "    <tr>\n",
              "      <th>1</th>\n",
              "      <td>307</td>\n",
              "      <td>3</td>\n",
              "      <td>85</td>\n",
              "      <td>1</td>\n",
              "      <td>10</td>\n",
              "      <td>62</td>\n",
              "      <td>0</td>\n",
              "    </tr>\n",
              "    <tr>\n",
              "      <th>2</th>\n",
              "      <td>160</td>\n",
              "      <td>7</td>\n",
              "      <td>238</td>\n",
              "      <td>11</td>\n",
              "      <td>328</td>\n",
              "      <td>32</td>\n",
              "      <td>0</td>\n",
              "    </tr>\n",
              "    <tr>\n",
              "      <th>3</th>\n",
              "      <td>273</td>\n",
              "      <td>2</td>\n",
              "      <td>181</td>\n",
              "      <td>1</td>\n",
              "      <td>207</td>\n",
              "      <td>62</td>\n",
              "      <td>0</td>\n",
              "    </tr>\n",
              "    <tr>\n",
              "      <th>4</th>\n",
              "      <td>135</td>\n",
              "      <td>3</td>\n",
              "      <td>353</td>\n",
              "      <td>1</td>\n",
              "      <td>101</td>\n",
              "      <td>32</td>\n",
              "      <td>0</td>\n",
              "    </tr>\n",
              "    <tr>\n",
              "      <th>...</th>\n",
              "      <td>...</td>\n",
              "      <td>...</td>\n",
              "      <td>...</td>\n",
              "      <td>...</td>\n",
              "      <td>...</td>\n",
              "      <td>...</td>\n",
              "      <td>...</td>\n",
              "    </tr>\n",
              "    <tr>\n",
              "      <th>26609</th>\n",
              "      <td>763</td>\n",
              "      <td>1</td>\n",
              "      <td>0</td>\n",
              "      <td>61</td>\n",
              "      <td>327</td>\n",
              "      <td>62</td>\n",
              "      <td>0</td>\n",
              "    </tr>\n",
              "    <tr>\n",
              "      <th>26610</th>\n",
              "      <td>94</td>\n",
              "      <td>1</td>\n",
              "      <td>0</td>\n",
              "      <td>4</td>\n",
              "      <td>180</td>\n",
              "      <td>109</td>\n",
              "      <td>2</td>\n",
              "    </tr>\n",
              "    <tr>\n",
              "      <th>26611</th>\n",
              "      <td>141</td>\n",
              "      <td>1</td>\n",
              "      <td>0</td>\n",
              "      <td>1</td>\n",
              "      <td>365</td>\n",
              "      <td>28</td>\n",
              "      <td>0</td>\n",
              "    </tr>\n",
              "    <tr>\n",
              "      <th>26613</th>\n",
              "      <td>160</td>\n",
              "      <td>5</td>\n",
              "      <td>0</td>\n",
              "      <td>3</td>\n",
              "      <td>269</td>\n",
              "      <td>132</td>\n",
              "      <td>0</td>\n",
              "    </tr>\n",
              "    <tr>\n",
              "      <th>26614</th>\n",
              "      <td>316</td>\n",
              "      <td>1</td>\n",
              "      <td>0</td>\n",
              "      <td>59</td>\n",
              "      <td>159</td>\n",
              "      <td>32</td>\n",
              "      <td>0</td>\n",
              "    </tr>\n",
              "  </tbody>\n",
              "</table>\n",
              "<p>23845 rows × 7 columns</p>\n",
              "</div>"
            ],
            "text/plain": [
              "       price  minimum_nights  ...  neighbourhood_cod  room_type_tgt\n",
              "0        221               5  ...                 32              0\n",
              "1        307               3  ...                 62              0\n",
              "2        160               7  ...                 32              0\n",
              "3        273               2  ...                 62              0\n",
              "4        135               3  ...                 32              0\n",
              "...      ...             ...  ...                ...            ...\n",
              "26609    763               1  ...                 62              0\n",
              "26610     94               1  ...                109              2\n",
              "26611    141               1  ...                 28              0\n",
              "26613    160               5  ...                132              0\n",
              "26614    316               1  ...                 32              0\n",
              "\n",
              "[23845 rows x 7 columns]"
            ]
          },
          "metadata": {
            "tags": []
          },
          "execution_count": 2
        }
      ]
    },
    {
      "cell_type": "code",
      "metadata": {
        "id": "vHqh14JGVJeu",
        "colab": {
          "base_uri": "https://localhost:8080/"
        },
        "outputId": "2c5f85e2-9ccc-404c-9395-61460a29dabc"
      },
      "source": [
        "####\n",
        "print(df['room_type_tgt'].unique())\n",
        "print(df.shape)\n",
        "\n",
        "rotulos = np.array(df['room_type_tgt'])\n",
        "features = np.array(df.iloc[:, 0:-1])"
      ],
      "execution_count": 3,
      "outputs": [
        {
          "output_type": "stream",
          "text": [
            "[0 2 3 1]\n",
            "(23845, 7)\n"
          ],
          "name": "stdout"
        }
      ]
    },
    {
      "cell_type": "code",
      "metadata": {
        "colab": {
          "base_uri": "https://localhost:8080/"
        },
        "id": "ZBs5H0_XkdR8",
        "outputId": "18412b1d-e9fd-46af-a420-1fc054c6b5b1"
      },
      "source": [
        "##-- Separando os dados:\n",
        "\n",
        "perc_train = 0.7\n",
        "\n",
        "n_train = int(features.shape[0]*perc_train)\n",
        "n_test = int(features.shape[0]*(1-perc_train))\n",
        "\n",
        "x_train =  features[0:n_train,:]\n",
        "y_train = rotulos[0:n_train]\n",
        "\n",
        "x_test =  features[0:n_test,:]\n",
        "y_test = rotulos[0:n_test]\n",
        "\n",
        "# transformar categorias em one-hot-encoding\n",
        "y_train = keras.utils.to_categorical(y_train, 4)\n",
        "y_test = keras.utils.to_categorical(y_test, 4)\n",
        "\n",
        "print(\"\\nConj. Train: \", len(x_train))\n",
        "print(\"Conj. Y Train : \", len(x_train))\n",
        "print(\"\\nConj. Test \", len(x_test))\n",
        "print(\"Conj. Y Test : \", len(y_test))"
      ],
      "execution_count": 4,
      "outputs": [
        {
          "output_type": "stream",
          "text": [
            "\n",
            "Conj. Train:  16691\n",
            "Conj. Y Train :  16691\n",
            "\n",
            "Conj. Test  7153\n",
            "Conj. Y Test :  7153\n"
          ],
          "name": "stdout"
        }
      ]
    },
    {
      "cell_type": "code",
      "metadata": {
        "id": "h8XzG3ErVJeu"
      },
      "source": [
        "##-- Rede neural profunda\n",
        "def model_rnn (input_shape, dropout_rate=0.0):\n",
        "    \n",
        "    inputs = keras.Input(shape=input_shape)\n",
        "    x = layers.BatchNormalization()(inputs)\n",
        "    x = layers.Dense(32, activation=\"relu\")(x)\n",
        "    x = layers.Dense(64, activation=\"relu\")(x)\n",
        "    x = layers.Dropout(dropout_rate)(x)\n",
        "    x = layers.BatchNormalization()(x)\n",
        "    x = layers.Dense(64, activation=\"relu\")(x)\n",
        "    x = layers.Dense(32, activation=\"relu\")(x)\n",
        "    outputs = layers.Dense(4, activation=\"softmax\")(x)\n",
        "\n",
        "    return keras.Model(inputs, outputs)"
      ],
      "execution_count": 5,
      "outputs": []
    },
    {
      "cell_type": "code",
      "metadata": {
        "id": "udG6Fv7rscMj",
        "colab": {
          "base_uri": "https://localhost:8080/"
        },
        "outputId": "7836c198-b927-4c7f-f533-d898e9791d7a"
      },
      "source": [
        "input_shape = 6\n",
        "\n",
        "model = model_rnn(input_shape , 0.2)\n",
        "model.summary()"
      ],
      "execution_count": 6,
      "outputs": [
        {
          "output_type": "stream",
          "text": [
            "Model: \"model\"\n",
            "_________________________________________________________________\n",
            "Layer (type)                 Output Shape              Param #   \n",
            "=================================================================\n",
            "input_1 (InputLayer)         [(None, 6)]               0         \n",
            "_________________________________________________________________\n",
            "batch_normalization (BatchNo (None, 6)                 24        \n",
            "_________________________________________________________________\n",
            "dense (Dense)                (None, 32)                224       \n",
            "_________________________________________________________________\n",
            "dense_1 (Dense)              (None, 64)                2112      \n",
            "_________________________________________________________________\n",
            "dropout (Dropout)            (None, 64)                0         \n",
            "_________________________________________________________________\n",
            "batch_normalization_1 (Batch (None, 64)                256       \n",
            "_________________________________________________________________\n",
            "dense_2 (Dense)              (None, 64)                4160      \n",
            "_________________________________________________________________\n",
            "dense_3 (Dense)              (None, 32)                2080      \n",
            "_________________________________________________________________\n",
            "dense_4 (Dense)              (None, 4)                 132       \n",
            "=================================================================\n",
            "Total params: 8,988\n",
            "Trainable params: 8,848\n",
            "Non-trainable params: 140\n",
            "_________________________________________________________________\n"
          ],
          "name": "stdout"
        }
      ]
    },
    {
      "cell_type": "code",
      "metadata": {
        "id": "taIuCm_bs_V7",
        "colab": {
          "base_uri": "https://localhost:8080/"
        },
        "outputId": "3df095d3-7ad2-49eb-db72-dab088247626"
      },
      "source": [
        "##-- inicializando e treinando  \n",
        "##-- Taxa de aprendizado inicial de 0.001 e com decaimento em todas as épocas exponencial a -0.3\n",
        "seed(1)\n",
        "set_seed(2)\n",
        "\n",
        "def scheduler(epoch, lr):\n",
        "    return np.clip(lr * tf.math.exp(-0.3), 0.00001, 0.001)\n",
        "    \n",
        "callbacklr = tf.keras.callbacks.LearningRateScheduler(scheduler)\n",
        "\n",
        "##-- Uso de pesos para as classes: menor peso para classes majoritárias (0 e 2) e maior peso para classes minoritárias (1 e 3)\n",
        "class_weight = {0: 0.5, 1: 0.7, 2: 0.5, 3: 0.9}\n",
        "\n",
        "epochs = 20\n",
        "batch_size = 16\n",
        "\n",
        "model.compile(loss='categorical_crossentropy', optimizer=keras.optimizers.Adam(lr=0.001),\n",
        "              metrics=[tf.keras.metrics.Precision(name='precision'), tf.keras.metrics.Recall(name='recall'), 'accuracy'] )\n",
        "##-- Conjunto\n",
        "hist_bdnormal = model.fit(x_train, y_train, class_weight=class_weight,\n",
        "             callbacks=[callbacklr], batch_size=batch_size, epochs=epochs, verbose=1)"
      ],
      "execution_count": 7,
      "outputs": [
        {
          "output_type": "stream",
          "text": [
            "Epoch 1/20\n",
            "1044/1044 [==============================] - 6s 4ms/step - loss: 0.3764 - precision: 0.7509 - recall: 0.6508 - accuracy: 0.7258\n",
            "Epoch 2/20\n",
            "1044/1044 [==============================] - 4s 4ms/step - loss: 0.3351 - precision: 0.7541 - recall: 0.6929 - accuracy: 0.7346\n",
            "Epoch 3/20\n",
            "1044/1044 [==============================] - 4s 4ms/step - loss: 0.3229 - precision: 0.7693 - recall: 0.7131 - accuracy: 0.7526\n",
            "Epoch 4/20\n",
            "1044/1044 [==============================] - 4s 4ms/step - loss: 0.3147 - precision: 0.7753 - recall: 0.7285 - accuracy: 0.7591\n",
            "Epoch 5/20\n",
            "1044/1044 [==============================] - 4s 4ms/step - loss: 0.3247 - precision: 0.7699 - recall: 0.7171 - accuracy: 0.7549\n",
            "Epoch 6/20\n",
            "1044/1044 [==============================] - 4s 4ms/step - loss: 0.3119 - precision: 0.7774 - recall: 0.7292 - accuracy: 0.7581\n",
            "Epoch 7/20\n",
            "1044/1044 [==============================] - 4s 4ms/step - loss: 0.3069 - precision: 0.7792 - recall: 0.7345 - accuracy: 0.7627\n",
            "Epoch 8/20\n",
            "1044/1044 [==============================] - 4s 4ms/step - loss: 0.3137 - precision: 0.7723 - recall: 0.7244 - accuracy: 0.7558\n",
            "Epoch 9/20\n",
            "1044/1044 [==============================] - 4s 4ms/step - loss: 0.3186 - precision: 0.7720 - recall: 0.7251 - accuracy: 0.7574\n",
            "Epoch 10/20\n",
            "1044/1044 [==============================] - 4s 4ms/step - loss: 0.3207 - precision: 0.7689 - recall: 0.7224 - accuracy: 0.7547\n",
            "Epoch 11/20\n",
            "1044/1044 [==============================] - 4s 4ms/step - loss: 0.3174 - precision: 0.7713 - recall: 0.7215 - accuracy: 0.7530\n",
            "Epoch 12/20\n",
            "1044/1044 [==============================] - 4s 4ms/step - loss: 0.3114 - precision: 0.7741 - recall: 0.7316 - accuracy: 0.7584\n",
            "Epoch 13/20\n",
            "1044/1044 [==============================] - 4s 4ms/step - loss: 0.3121 - precision: 0.7823 - recall: 0.7334 - accuracy: 0.7631\n",
            "Epoch 14/20\n",
            "1044/1044 [==============================] - 4s 4ms/step - loss: 0.3133 - precision: 0.7721 - recall: 0.7218 - accuracy: 0.7544\n",
            "Epoch 15/20\n",
            "1044/1044 [==============================] - 4s 4ms/step - loss: 0.3124 - precision: 0.7746 - recall: 0.7285 - accuracy: 0.7576\n",
            "Epoch 16/20\n",
            "1044/1044 [==============================] - 4s 4ms/step - loss: 0.3110 - precision: 0.7757 - recall: 0.7272 - accuracy: 0.7582\n",
            "Epoch 17/20\n",
            "1044/1044 [==============================] - 4s 4ms/step - loss: 0.3141 - precision: 0.7798 - recall: 0.7306 - accuracy: 0.7621\n",
            "Epoch 18/20\n",
            "1044/1044 [==============================] - 4s 4ms/step - loss: 0.3167 - precision: 0.7695 - recall: 0.7239 - accuracy: 0.7526\n",
            "Epoch 19/20\n",
            "1044/1044 [==============================] - 4s 4ms/step - loss: 0.3198 - precision: 0.7713 - recall: 0.7247 - accuracy: 0.7523\n",
            "Epoch 20/20\n",
            "1044/1044 [==============================] - 4s 4ms/step - loss: 0.3113 - precision: 0.7765 - recall: 0.7295 - accuracy: 0.7587\n"
          ],
          "name": "stdout"
        }
      ]
    },
    {
      "cell_type": "code",
      "metadata": {
        "id": "HS4PQh30YH4o"
      },
      "source": [
        "hist_bdnormal_t = model.fit(x_train, y_train,\n",
        "                    batch_size=batch_size,\n",
        "                    epochs=epochs, \n",
        "                    verbose=0)\n",
        "\n",
        "score1_Tr = model.evaluate(x_train, y_train, verbose = 0)\n",
        "score1_Te = model.evaluate(x_test, y_test, verbose = 0)"
      ],
      "execution_count": 8,
      "outputs": []
    },
    {
      "cell_type": "markdown",
      "metadata": {
        "id": "J4VC7aIJNBhJ"
      },
      "source": [
        "# **RNN com Balanceamento SMOTEENN (combinado)**"
      ]
    },
    {
      "cell_type": "code",
      "metadata": {
        "colab": {
          "base_uri": "https://localhost:8080/",
          "height": 406
        },
        "id": "1TgQRMLcMS_X",
        "outputId": "04eaf1dc-9399-4bb4-a75b-cc5ef33ff404"
      },
      "source": [
        "##-- Leitua Cadastro com balanceamento - SMOTEENN (combinado)\n",
        "df = pd.read_pickle('bd_SMOTEENN_Comb.pkl') \n",
        "df"
      ],
      "execution_count": 9,
      "outputs": [
        {
          "output_type": "execute_result",
          "data": {
            "text/html": [
              "<div>\n",
              "<style scoped>\n",
              "    .dataframe tbody tr th:only-of-type {\n",
              "        vertical-align: middle;\n",
              "    }\n",
              "\n",
              "    .dataframe tbody tr th {\n",
              "        vertical-align: top;\n",
              "    }\n",
              "\n",
              "    .dataframe thead th {\n",
              "        text-align: right;\n",
              "    }\n",
              "</style>\n",
              "<table border=\"1\" class=\"dataframe\">\n",
              "  <thead>\n",
              "    <tr style=\"text-align: right;\">\n",
              "      <th></th>\n",
              "      <th>price</th>\n",
              "      <th>minimum_nights</th>\n",
              "      <th>number_of_reviews</th>\n",
              "      <th>calculated_host_listings_count</th>\n",
              "      <th>availability_365</th>\n",
              "      <th>neighbourhood_cod</th>\n",
              "      <th>room_type_tgt</th>\n",
              "    </tr>\n",
              "  </thead>\n",
              "  <tbody>\n",
              "    <tr>\n",
              "      <th>0</th>\n",
              "      <td>-0.439785</td>\n",
              "      <td>0.025927</td>\n",
              "      <td>7.947134</td>\n",
              "      <td>-0.233806</td>\n",
              "      <td>0.629464</td>\n",
              "      <td>-0.569045</td>\n",
              "      <td>0</td>\n",
              "    </tr>\n",
              "    <tr>\n",
              "      <th>1</th>\n",
              "      <td>-0.089480</td>\n",
              "      <td>-0.079835</td>\n",
              "      <td>2.309906</td>\n",
              "      <td>-0.233806</td>\n",
              "      <td>-1.457292</td>\n",
              "      <td>0.264563</td>\n",
              "      <td>0</td>\n",
              "    </tr>\n",
              "    <tr>\n",
              "      <th>2</th>\n",
              "      <td>-0.790090</td>\n",
              "      <td>-0.079835</td>\n",
              "      <td>10.942918</td>\n",
              "      <td>-0.233806</td>\n",
              "      <td>-0.811392</td>\n",
              "      <td>-0.569045</td>\n",
              "      <td>0</td>\n",
              "    </tr>\n",
              "    <tr>\n",
              "      <th>3</th>\n",
              "      <td>0.631497</td>\n",
              "      <td>-0.079835</td>\n",
              "      <td>0.151653</td>\n",
              "      <td>-0.205984</td>\n",
              "      <td>1.062430</td>\n",
              "      <td>-0.569045</td>\n",
              "      <td>0</td>\n",
              "    </tr>\n",
              "    <tr>\n",
              "      <th>4</th>\n",
              "      <td>0.859602</td>\n",
              "      <td>-0.026954</td>\n",
              "      <td>-0.299325</td>\n",
              "      <td>-0.205984</td>\n",
              "      <td>-1.521172</td>\n",
              "      <td>-0.569045</td>\n",
              "      <td>0</td>\n",
              "    </tr>\n",
              "    <tr>\n",
              "      <th>...</th>\n",
              "      <td>...</td>\n",
              "      <td>...</td>\n",
              "      <td>...</td>\n",
              "      <td>...</td>\n",
              "      <td>...</td>\n",
              "      <td>...</td>\n",
              "      <td>...</td>\n",
              "    </tr>\n",
              "    <tr>\n",
              "      <th>16715</th>\n",
              "      <td>-0.689149</td>\n",
              "      <td>-0.185597</td>\n",
              "      <td>-0.428176</td>\n",
              "      <td>-0.168618</td>\n",
              "      <td>1.062430</td>\n",
              "      <td>0.156860</td>\n",
              "      <td>3</td>\n",
              "    </tr>\n",
              "    <tr>\n",
              "      <th>16716</th>\n",
              "      <td>-1.062020</td>\n",
              "      <td>-0.184068</td>\n",
              "      <td>0.091574</td>\n",
              "      <td>0.069292</td>\n",
              "      <td>-0.622966</td>\n",
              "      <td>-1.064389</td>\n",
              "      <td>3</td>\n",
              "    </tr>\n",
              "    <tr>\n",
              "      <th>16717</th>\n",
              "      <td>-1.107337</td>\n",
              "      <td>-0.123399</td>\n",
              "      <td>-0.394072</td>\n",
              "      <td>-0.225636</td>\n",
              "      <td>0.982258</td>\n",
              "      <td>-1.069210</td>\n",
              "      <td>3</td>\n",
              "    </tr>\n",
              "    <tr>\n",
              "      <th>16718</th>\n",
              "      <td>-0.342816</td>\n",
              "      <td>0.007891</td>\n",
              "      <td>-0.422683</td>\n",
              "      <td>-0.081105</td>\n",
              "      <td>-0.374629</td>\n",
              "      <td>-0.569045</td>\n",
              "      <td>3</td>\n",
              "    </tr>\n",
              "    <tr>\n",
              "      <th>16719</th>\n",
              "      <td>-1.135152</td>\n",
              "      <td>-0.185597</td>\n",
              "      <td>-0.075315</td>\n",
              "      <td>0.126290</td>\n",
              "      <td>1.062022</td>\n",
              "      <td>-0.459174</td>\n",
              "      <td>3</td>\n",
              "    </tr>\n",
              "  </tbody>\n",
              "</table>\n",
              "<p>16720 rows × 7 columns</p>\n",
              "</div>"
            ],
            "text/plain": [
              "          price  minimum_nights  ...  neighbourhood_cod  room_type_tgt\n",
              "0     -0.439785        0.025927  ...          -0.569045              0\n",
              "1     -0.089480       -0.079835  ...           0.264563              0\n",
              "2     -0.790090       -0.079835  ...          -0.569045              0\n",
              "3      0.631497       -0.079835  ...          -0.569045              0\n",
              "4      0.859602       -0.026954  ...          -0.569045              0\n",
              "...         ...             ...  ...                ...            ...\n",
              "16715 -0.689149       -0.185597  ...           0.156860              3\n",
              "16716 -1.062020       -0.184068  ...          -1.064389              3\n",
              "16717 -1.107337       -0.123399  ...          -1.069210              3\n",
              "16718 -0.342816        0.007891  ...          -0.569045              3\n",
              "16719 -1.135152       -0.185597  ...          -0.459174              3\n",
              "\n",
              "[16720 rows x 7 columns]"
            ]
          },
          "metadata": {
            "tags": []
          },
          "execution_count": 9
        }
      ]
    },
    {
      "cell_type": "code",
      "metadata": {
        "colab": {
          "base_uri": "https://localhost:8080/"
        },
        "id": "blJyylAoMpWO",
        "outputId": "93fbde94-103e-4d4d-e371-b15adc407d7c"
      },
      "source": [
        "####\n",
        "print(df['room_type_tgt'].unique())\n",
        "print(df.shape)\n",
        "\n",
        "rotulos = np.array(df['room_type_tgt'])\n",
        "features = np.array(df.iloc[:, 0:-1])"
      ],
      "execution_count": 10,
      "outputs": [
        {
          "output_type": "stream",
          "text": [
            "[0 1 2 3]\n",
            "(16720, 7)\n"
          ],
          "name": "stdout"
        }
      ]
    },
    {
      "cell_type": "code",
      "metadata": {
        "colab": {
          "base_uri": "https://localhost:8080/"
        },
        "id": "Znl9AIUdM8M5",
        "outputId": "29c083ba-4a7b-4a48-a875-a261f2133baf"
      },
      "source": [
        "##-- Separando os dados:\n",
        "\n",
        "perc_train = 0.7\n",
        "\n",
        "n_train = int(features.shape[0]*perc_train)\n",
        "n_test = int(features.shape[0]*(1-perc_train))\n",
        "\n",
        "x_train =  features[0:n_train,:]\n",
        "y_train = rotulos[0:n_train]\n",
        "\n",
        "x_test =  features[0:n_test,:]\n",
        "y_test = rotulos[0:n_test]\n",
        "\n",
        "# transformar categorias em one-hot-encoding\n",
        "y_train = keras.utils.to_categorical(y_train, 4)\n",
        "y_test = keras.utils.to_categorical(y_test, 4)\n",
        "\n",
        "print(\"\\nConj. Train: \", len(x_train))\n",
        "print(\"Conj. Y Train : \", len(x_train))\n",
        "print(\"\\nConj. Test \", len(x_test))\n",
        "print(\"Conj. Y Test : \", len(y_test))"
      ],
      "execution_count": 11,
      "outputs": [
        {
          "output_type": "stream",
          "text": [
            "\n",
            "Conj. Train:  11704\n",
            "Conj. Y Train :  11704\n",
            "\n",
            "Conj. Test  5016\n",
            "Conj. Y Test :  5016\n"
          ],
          "name": "stdout"
        }
      ]
    },
    {
      "cell_type": "code",
      "metadata": {
        "colab": {
          "base_uri": "https://localhost:8080/"
        },
        "id": "A0POEjsbN2Zg",
        "outputId": "94ecdfc0-728e-4ee7-baee-aa5562a6eec5"
      },
      "source": [
        "input_shape = 6\n",
        "\n",
        "model_bdBal = model_rnn(input_shape , 0.2)\n",
        "model_bdBal.summary()"
      ],
      "execution_count": 12,
      "outputs": [
        {
          "output_type": "stream",
          "text": [
            "Model: \"model_1\"\n",
            "_________________________________________________________________\n",
            "Layer (type)                 Output Shape              Param #   \n",
            "=================================================================\n",
            "input_2 (InputLayer)         [(None, 6)]               0         \n",
            "_________________________________________________________________\n",
            "batch_normalization_2 (Batch (None, 6)                 24        \n",
            "_________________________________________________________________\n",
            "dense_5 (Dense)              (None, 32)                224       \n",
            "_________________________________________________________________\n",
            "dense_6 (Dense)              (None, 64)                2112      \n",
            "_________________________________________________________________\n",
            "dropout_1 (Dropout)          (None, 64)                0         \n",
            "_________________________________________________________________\n",
            "batch_normalization_3 (Batch (None, 64)                256       \n",
            "_________________________________________________________________\n",
            "dense_7 (Dense)              (None, 64)                4160      \n",
            "_________________________________________________________________\n",
            "dense_8 (Dense)              (None, 32)                2080      \n",
            "_________________________________________________________________\n",
            "dense_9 (Dense)              (None, 4)                 132       \n",
            "=================================================================\n",
            "Total params: 8,988\n",
            "Trainable params: 8,848\n",
            "Non-trainable params: 140\n",
            "_________________________________________________________________\n"
          ],
          "name": "stdout"
        }
      ]
    },
    {
      "cell_type": "code",
      "metadata": {
        "colab": {
          "base_uri": "https://localhost:8080/"
        },
        "id": "yp9ScX0cOISH",
        "outputId": "c2497476-bafc-49b9-a951-78f94f7cef17"
      },
      "source": [
        "##-- inicializando e treinando  \n",
        "##-- Taxa de aprendizado inicial de 0.001 e com decaimento em todas as épocas exponencial a -0.3\n",
        "seed(1)\n",
        "set_seed(2)\n",
        "\n",
        "def scheduler(epoch, lr):\n",
        "    return np.clip(lr * tf.math.exp(-0.3), 0.00001, 0.001)\n",
        "    \n",
        "callbacklr = tf.keras.callbacks.LearningRateScheduler(scheduler)\n",
        "\n",
        "##-- Uso de pesos para as classes: menor peso para classes majoritárias (0 e 2) e maior peso para classes minoritárias (1 e 3)\n",
        "class_weight = {0: 0.5, 1: 0.7, 2: 0.5, 3: 0.9}\n",
        "\n",
        "epochs = 20\n",
        "batch_size = 16\n",
        "\n",
        "model_bdBal.compile(loss='categorical_crossentropy', optimizer=keras.optimizers.Adam(lr=0.001),\n",
        "              metrics=[tf.keras.metrics.Precision(name='precision'), tf.keras.metrics.Recall(name='recall'), 'accuracy'] )\n",
        "##-- Conjunto\n",
        "hist_bdBal = model_bdBal.fit(x_train, y_train, class_weight=class_weight,\n",
        "             callbacks=[callbacklr], batch_size=batch_size, epochs=epochs, verbose=1)"
      ],
      "execution_count": 13,
      "outputs": [
        {
          "output_type": "stream",
          "text": [
            "Epoch 1/20\n",
            "732/732 [==============================] - 4s 4ms/step - loss: 0.3101 - precision: 0.8319 - recall: 0.7276 - accuracy: 0.7953\n",
            "Epoch 2/20\n",
            "732/732 [==============================] - 3s 4ms/step - loss: 0.2041 - precision: 0.8800 - recall: 0.8603 - accuracy: 0.8699\n",
            "Epoch 3/20\n",
            "732/732 [==============================] - 3s 4ms/step - loss: 0.1829 - precision: 0.8987 - recall: 0.8831 - accuracy: 0.8916\n",
            "Epoch 4/20\n",
            "732/732 [==============================] - 3s 4ms/step - loss: 0.1746 - precision: 0.8961 - recall: 0.8808 - accuracy: 0.8893\n",
            "Epoch 5/20\n",
            "732/732 [==============================] - 3s 4ms/step - loss: 0.1777 - precision: 0.8936 - recall: 0.8782 - accuracy: 0.8847\n",
            "Epoch 6/20\n",
            "732/732 [==============================] - 3s 4ms/step - loss: 0.1799 - precision: 0.8952 - recall: 0.8798 - accuracy: 0.8875\n",
            "Epoch 7/20\n",
            "732/732 [==============================] - 3s 4ms/step - loss: 0.1782 - precision: 0.8982 - recall: 0.8847 - accuracy: 0.8916\n",
            "Epoch 8/20\n",
            "732/732 [==============================] - 3s 4ms/step - loss: 0.1631 - precision: 0.9036 - recall: 0.8895 - accuracy: 0.8952\n",
            "Epoch 9/20\n",
            "732/732 [==============================] - 3s 4ms/step - loss: 0.1691 - precision: 0.9029 - recall: 0.8878 - accuracy: 0.8963\n",
            "Epoch 10/20\n",
            "732/732 [==============================] - 3s 4ms/step - loss: 0.1608 - precision: 0.9048 - recall: 0.8900 - accuracy: 0.8971\n",
            "Epoch 11/20\n",
            "732/732 [==============================] - 3s 4ms/step - loss: 0.1642 - precision: 0.9030 - recall: 0.8886 - accuracy: 0.8957\n",
            "Epoch 12/20\n",
            "732/732 [==============================] - 3s 4ms/step - loss: 0.1637 - precision: 0.9058 - recall: 0.8886 - accuracy: 0.8973\n",
            "Epoch 13/20\n",
            "732/732 [==============================] - 3s 4ms/step - loss: 0.1761 - precision: 0.8990 - recall: 0.8814 - accuracy: 0.8915\n",
            "Epoch 14/20\n",
            "732/732 [==============================] - 3s 4ms/step - loss: 0.1586 - precision: 0.9062 - recall: 0.8933 - accuracy: 0.9007\n",
            "Epoch 15/20\n",
            "732/732 [==============================] - 3s 4ms/step - loss: 0.1674 - precision: 0.9039 - recall: 0.8890 - accuracy: 0.8954\n",
            "Epoch 16/20\n",
            "732/732 [==============================] - 3s 4ms/step - loss: 0.1598 - precision: 0.9025 - recall: 0.8888 - accuracy: 0.8952\n",
            "Epoch 17/20\n",
            "732/732 [==============================] - 3s 4ms/step - loss: 0.1672 - precision: 0.9022 - recall: 0.8867 - accuracy: 0.8953\n",
            "Epoch 18/20\n",
            "732/732 [==============================] - 3s 4ms/step - loss: 0.1622 - precision: 0.9038 - recall: 0.8912 - accuracy: 0.8971\n",
            "Epoch 19/20\n",
            "732/732 [==============================] - 3s 4ms/step - loss: 0.1646 - precision: 0.9078 - recall: 0.8954 - accuracy: 0.9010\n",
            "Epoch 20/20\n",
            "732/732 [==============================] - 3s 4ms/step - loss: 0.1685 - precision: 0.8989 - recall: 0.8831 - accuracy: 0.8915\n"
          ],
          "name": "stdout"
        }
      ]
    },
    {
      "cell_type": "code",
      "metadata": {
        "id": "SlHvyQdQY1bt"
      },
      "source": [
        "hist_bdBalanc_t = model_bdBal.fit(x_train, y_train,\n",
        "                    batch_size=batch_size,\n",
        "                    epochs=epochs, \n",
        "                    verbose=0)\n",
        "\n",
        "score1_TrBal = model_bdBal.evaluate(x_train, y_train, verbose = 0)\n",
        "score1_TeBal = model_bdBal.evaluate(x_test, y_test, verbose = 0)"
      ],
      "execution_count": 14,
      "outputs": []
    },
    {
      "cell_type": "markdown",
      "metadata": {
        "id": "pyZXGCOmO4pJ"
      },
      "source": [
        "# **Resulta da RNN considerando a base de dados normal *versus* a RNN com base de dados com o tratamento do Balanceamento SMOTEENN (hibrido)**"
      ]
    },
    {
      "cell_type": "code",
      "metadata": {
        "colab": {
          "base_uri": "https://localhost:8080/",
          "height": 353
        },
        "id": "x6_PYmutO3c7",
        "outputId": "c463e6d7-392e-4ffe-f52e-328f503e171e"
      },
      "source": [
        "##-- Gráfico da precisão e revocação no treinamento S e teste T\n",
        "plt.figure(figsize=(8,5))\n",
        "plt.plot(hist_bdnormal.history['precision'], 'g')\n",
        "plt.plot(hist_bdnormal.history['recall'], 'g--')\n",
        "plt.plot(hist_bdBal.history['precision'], 'r')\n",
        "plt.plot(hist_bdBal.history['recall'], 'r--')\n",
        "plt.ylabel('Medidas' )\n",
        "plt.legend([\"Precisão Train.\", \"Revocação Train.\", \"Precisão Trein. BD Balanc.\", \"Revocação Trein. BD Balanc.\"], loc=\"best\")\n",
        "plt.title('Treinamento BD Normal x BD com Balanceamento Hibrido')"
      ],
      "execution_count": 15,
      "outputs": [
        {
          "output_type": "execute_result",
          "data": {
            "text/plain": [
              "Text(0.5, 1.0, 'Treinamento BD Normal x BD com Balanceamento Hibrido')"
            ]
          },
          "metadata": {
            "tags": []
          },
          "execution_count": 15
        },
        {
          "output_type": "display_data",
          "data": {
            "image/png": "[encoded data removed]",
            "text/plain": [
              "<Figure size 576x360 with 1 Axes>"
            ]
          },
          "metadata": {
            "tags": [],
            "needs_background": "light"
          }
        }
      ]
    },
    {
      "cell_type": "markdown",
      "metadata": {
        "id": "bS7HCw3vVJeu"
      },
      "source": [
        "#### >> Houve ganho significativo com o tramento da base com balanceamento Smoteenn (hibrido) com a utilização da rede neural."
      ]
    },
    {
      "cell_type": "code",
      "metadata": {
        "colab": {
          "base_uri": "https://localhost:8080/"
        },
        "id": "EhVG_miNV9iM",
        "outputId": "555d6b41-6e0b-45ac-f75b-4320a5c2794a"
      },
      "source": [
        "print(\"Acurácia treinamento - BD Normal: %.4f\" % (score1_Tr[1]))\n",
        "print(\"Acurácia teste - BD Normal: %.4f\" % (score1_Te[1]))\n",
        "\n",
        "print(\"Acurácia treinamento - BD Balanc.: %.4f\" % (score1_TrBal[1]))\n",
        "print(\"Acurácia teste - BD Balanc.: %.4f\" % (score1_TeBal[1]))"
      ],
      "execution_count": 16,
      "outputs": [
        {
          "output_type": "stream",
          "text": [
            "Acurácia treinamento - BD Normal: 0.7647\n",
            "Acurácia teste - BD Normal: 0.7634\n",
            "Acurácia treinamento - BD Balanc.: 0.8978\n",
            "Acurácia teste - BD Balanc.: 0.9956\n"
          ],
          "name": "stdout"
        }
      ]
    }
  ]
}